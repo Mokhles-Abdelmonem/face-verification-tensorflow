{
 "cells": [
  {
   "cell_type": "code",
   "execution_count": 1,
   "id": "ff79a194",
   "metadata": {},
   "outputs": [],
   "source": [
    "# !pip install tensorflow tensorflow-gpu opencv-python matplotlib"
   ]
  },
  {
   "cell_type": "code",
   "execution_count": 1,
   "id": "983a7d33",
   "metadata": {},
   "outputs": [],
   "source": [
    "# Import standard dependencies\n",
    "import cv2\n",
    "import os\n",
    "import random\n",
    "import numpy as np\n",
    "from matplotlib import pyplot as plt"
   ]
  },
  {
   "cell_type": "code",
   "execution_count": 2,
   "id": "76047090",
   "metadata": {},
   "outputs": [
    {
     "name": "stderr",
     "output_type": "stream",
     "text": [
      "2023-08-05 12:06:03.386461: I tensorflow/core/util/port.cc:110] oneDNN custom operations are on. You may see slightly different numerical results due to floating-point round-off errors from different computation orders. To turn them off, set the environment variable `TF_ENABLE_ONEDNN_OPTS=0`.\n",
      "2023-08-05 12:06:03.656446: I tensorflow/core/platform/cpu_feature_guard.cc:182] This TensorFlow binary is optimized to use available CPU instructions in performance-critical operations.\n",
      "To enable the following instructions: AVX2 AVX512F AVX512_VNNI FMA, in other operations, rebuild TensorFlow with the appropriate compiler flags.\n",
      "2023-08-05 12:06:05.326716: W tensorflow/compiler/tf2tensorrt/utils/py_utils.cc:38] TF-TRT Warning: Could not find TensorRT\n"
     ]
    }
   ],
   "source": [
    "# Import tensorflow dependencies - Functional API\n",
    "from tensorflow.keras.models import Model\n",
    "from tensorflow.keras.layers import Layer, Conv2D, Dense, MaxPooling2D, Input, Flatten\n",
    "import tensorflow as tf"
   ]
  },
  {
   "cell_type": "code",
   "execution_count": 3,
   "id": "db345a7f",
   "metadata": {},
   "outputs": [
    {
     "name": "stderr",
     "output_type": "stream",
     "text": [
      "2023-08-05 12:06:07.785232: E tensorflow/compiler/xla/stream_executor/cuda/cuda_driver.cc:266] failed call to cuInit: CUDA_ERROR_NO_DEVICE: no CUDA-capable device is detected\n"
     ]
    },
    {
     "data": {
      "text/plain": [
       "[]"
      ]
     },
     "execution_count": 3,
     "metadata": {},
     "output_type": "execute_result"
    }
   ],
   "source": [
    "# Avoid OOM errors by setting GPU Memory Consumption Growth\n",
    "gpus = tf.config.experimental.list_physical_devices('GPU')\n",
    "for gpu in gpus: \n",
    "    tf.config.experimental.set_memory_growth(gpu, True)\n",
    "gpus"
   ]
  },
  {
   "cell_type": "code",
   "execution_count": 4,
   "id": "e68132e7",
   "metadata": {},
   "outputs": [],
   "source": [
    "# Setup paths\n",
    "POS_PATH = os.path.join('data', 'positive')\n",
    "NEG_PATH = os.path.join('data', 'negative')\n",
    "ANC_PATH = os.path.join('data', 'anchor')"
   ]
  },
  {
   "cell_type": "code",
   "execution_count": 5,
   "id": "d2682afa",
   "metadata": {},
   "outputs": [],
   "source": [
    "# # Make the directories\n",
    "# os.makedirs(POS_PATH)\n",
    "# os.makedirs(NEG_PATH)\n",
    "# os.makedirs(ANC_PATH)"
   ]
  },
  {
   "cell_type": "code",
   "execution_count": 6,
   "id": "647b3d1e",
   "metadata": {},
   "outputs": [],
   "source": [
    "# # Uncompress Tar GZ Labelled Faces in the Wild Dataset\n",
    "# !tar -xf lfw.tgz"
   ]
  },
  {
   "cell_type": "code",
   "execution_count": 7,
   "id": "12136a3a",
   "metadata": {},
   "outputs": [],
   "source": [
    "# # Move LFW Images to the following repository data/negative\n",
    "# for directory in os.listdir('lfw'):\n",
    "#     for file in os.listdir(os.path.join('lfw', directory)):\n",
    "#         EX_PATH = os.path.join('lfw', directory, file)\n",
    "#         NEW_PATH = os.path.join(NEG_PATH, file)\n",
    "#         os.replace(EX_PATH, NEW_PATH)"
   ]
  },
  {
   "cell_type": "code",
   "execution_count": 8,
   "id": "885be803",
   "metadata": {},
   "outputs": [],
   "source": [
    "# Import uuid library to generate unique image names\n",
    "import uuid"
   ]
  },
  {
   "cell_type": "code",
   "execution_count": 9,
   "id": "9f35fe87",
   "metadata": {},
   "outputs": [
    {
     "data": {
      "text/plain": [
       "'data/anchor/511bf678-336f-11ee-9f37-5cfb3a9030e3.jpg'"
      ]
     },
     "execution_count": 9,
     "metadata": {},
     "output_type": "execute_result"
    }
   ],
   "source": [
    "os.path.join(ANC_PATH, '{}.jpg'.format(uuid.uuid1()))"
   ]
  },
  {
   "cell_type": "code",
   "execution_count": 11,
   "id": "4528d80d",
   "metadata": {},
   "outputs": [
    {
     "name": "stderr",
     "output_type": "stream",
     "text": [
      "QObject::moveToThread: Current thread (0x65e44a0) is not the object's thread (0x65ce8a0).\n",
      "Cannot move to target thread (0x65e44a0)\n",
      "\n",
      "QObject::moveToThread: Current thread (0x65e44a0) is not the object's thread (0x65ce8a0).\n",
      "Cannot move to target thread (0x65e44a0)\n",
      "\n",
      "QObject::moveToThread: Current thread (0x65e44a0) is not the object's thread (0x65ce8a0).\n",
      "Cannot move to target thread (0x65e44a0)\n",
      "\n",
      "QObject::moveToThread: Current thread (0x65e44a0) is not the object's thread (0x65ce8a0).\n",
      "Cannot move to target thread (0x65e44a0)\n",
      "\n",
      "QObject::moveToThread: Current thread (0x65e44a0) is not the object's thread (0x65ce8a0).\n",
      "Cannot move to target thread (0x65e44a0)\n",
      "\n",
      "QObject::moveToThread: Current thread (0x65e44a0) is not the object's thread (0x65ce8a0).\n",
      "Cannot move to target thread (0x65e44a0)\n",
      "\n",
      "QObject::moveToThread: Current thread (0x65e44a0) is not the object's thread (0x65ce8a0).\n",
      "Cannot move to target thread (0x65e44a0)\n",
      "\n",
      "QObject::moveToThread: Current thread (0x65e44a0) is not the object's thread (0x65ce8a0).\n",
      "Cannot move to target thread (0x65e44a0)\n",
      "\n",
      "QObject::moveToThread: Current thread (0x65e44a0) is not the object's thread (0x65ce8a0).\n",
      "Cannot move to target thread (0x65e44a0)\n",
      "\n",
      "QObject::moveToThread: Current thread (0x65e44a0) is not the object's thread (0x65ce8a0).\n",
      "Cannot move to target thread (0x65e44a0)\n",
      "\n",
      "QObject::moveToThread: Current thread (0x65e44a0) is not the object's thread (0x65ce8a0).\n",
      "Cannot move to target thread (0x65e44a0)\n",
      "\n",
      "QObject::moveToThread: Current thread (0x65e44a0) is not the object's thread (0x65ce8a0).\n",
      "Cannot move to target thread (0x65e44a0)\n",
      "\n",
      "QObject::moveToThread: Current thread (0x65e44a0) is not the object's thread (0x65ce8a0).\n",
      "Cannot move to target thread (0x65e44a0)\n",
      "\n",
      "QObject::moveToThread: Current thread (0x65e44a0) is not the object's thread (0x65ce8a0).\n",
      "Cannot move to target thread (0x65e44a0)\n",
      "\n",
      "QObject::moveToThread: Current thread (0x65e44a0) is not the object's thread (0x65ce8a0).\n",
      "Cannot move to target thread (0x65e44a0)\n",
      "\n",
      "QObject::moveToThread: Current thread (0x65e44a0) is not the object's thread (0x65ce8a0).\n",
      "Cannot move to target thread (0x65e44a0)\n",
      "\n",
      "QObject::moveToThread: Current thread (0x65e44a0) is not the object's thread (0x65ce8a0).\n",
      "Cannot move to target thread (0x65e44a0)\n",
      "\n",
      "QObject::moveToThread: Current thread (0x65e44a0) is not the object's thread (0x65ce8a0).\n",
      "Cannot move to target thread (0x65e44a0)\n",
      "\n",
      "QObject::moveToThread: Current thread (0x65e44a0) is not the object's thread (0x65ce8a0).\n",
      "Cannot move to target thread (0x65e44a0)\n",
      "\n",
      "QObject::moveToThread: Current thread (0x65e44a0) is not the object's thread (0x65ce8a0).\n",
      "Cannot move to target thread (0x65e44a0)\n",
      "\n",
      "QObject::moveToThread: Current thread (0x65e44a0) is not the object's thread (0x65ce8a0).\n",
      "Cannot move to target thread (0x65e44a0)\n",
      "\n",
      "QObject::moveToThread: Current thread (0x65e44a0) is not the object's thread (0x65ce8a0).\n",
      "Cannot move to target thread (0x65e44a0)\n",
      "\n",
      "QObject::moveToThread: Current thread (0x65e44a0) is not the object's thread (0x65ce8a0).\n",
      "Cannot move to target thread (0x65e44a0)\n",
      "\n",
      "QObject::moveToThread: Current thread (0x65e44a0) is not the object's thread (0x65ce8a0).\n",
      "Cannot move to target thread (0x65e44a0)\n",
      "\n",
      "QObject::moveToThread: Current thread (0x65e44a0) is not the object's thread (0x65ce8a0).\n",
      "Cannot move to target thread (0x65e44a0)\n",
      "\n",
      "QObject::moveToThread: Current thread (0x65e44a0) is not the object's thread (0x65ce8a0).\n",
      "Cannot move to target thread (0x65e44a0)\n",
      "\n",
      "QObject::moveToThread: Current thread (0x65e44a0) is not the object's thread (0x65ce8a0).\n",
      "Cannot move to target thread (0x65e44a0)\n",
      "\n",
      "QObject::moveToThread: Current thread (0x65e44a0) is not the object's thread (0x65ce8a0).\n",
      "Cannot move to target thread (0x65e44a0)\n",
      "\n",
      "QObject::moveToThread: Current thread (0x65e44a0) is not the object's thread (0x65ce8a0).\n",
      "Cannot move to target thread (0x65e44a0)\n",
      "\n",
      "QObject::moveToThread: Current thread (0x65e44a0) is not the object's thread (0x65ce8a0).\n",
      "Cannot move to target thread (0x65e44a0)\n",
      "\n",
      "QObject::moveToThread: Current thread (0x65e44a0) is not the object's thread (0x65ce8a0).\n",
      "Cannot move to target thread (0x65e44a0)\n",
      "\n",
      "QObject::moveToThread: Current thread (0x65e44a0) is not the object's thread (0x65ce8a0).\n",
      "Cannot move to target thread (0x65e44a0)\n",
      "\n",
      "QObject::moveToThread: Current thread (0x65e44a0) is not the object's thread (0x65ce8a0).\n",
      "Cannot move to target thread (0x65e44a0)\n",
      "\n",
      "QObject::moveToThread: Current thread (0x65e44a0) is not the object's thread (0x65ce8a0).\n",
      "Cannot move to target thread (0x65e44a0)\n",
      "\n",
      "QObject::moveToThread: Current thread (0x65e44a0) is not the object's thread (0x65ce8a0).\n",
      "Cannot move to target thread (0x65e44a0)\n",
      "\n",
      "QObject::moveToThread: Current thread (0x65e44a0) is not the object's thread (0x65ce8a0).\n",
      "Cannot move to target thread (0x65e44a0)\n",
      "\n",
      "QObject::moveToThread: Current thread (0x65e44a0) is not the object's thread (0x65ce8a0).\n",
      "Cannot move to target thread (0x65e44a0)\n",
      "\n",
      "QObject::moveToThread: Current thread (0x65e44a0) is not the object's thread (0x65ce8a0).\n",
      "Cannot move to target thread (0x65e44a0)\n",
      "\n",
      "QObject::moveToThread: Current thread (0x65e44a0) is not the object's thread (0x65ce8a0).\n",
      "Cannot move to target thread (0x65e44a0)\n",
      "\n",
      "QObject::moveToThread: Current thread (0x65e44a0) is not the object's thread (0x65ce8a0).\n",
      "Cannot move to target thread (0x65e44a0)\n",
      "\n",
      "QObject::moveToThread: Current thread (0x65e44a0) is not the object's thread (0x65ce8a0).\n",
      "Cannot move to target thread (0x65e44a0)\n",
      "\n",
      "QObject::moveToThread: Current thread (0x65e44a0) is not the object's thread (0x65ce8a0).\n",
      "Cannot move to target thread (0x65e44a0)\n",
      "\n",
      "QObject::moveToThread: Current thread (0x65e44a0) is not the object's thread (0x65ce8a0).\n",
      "Cannot move to target thread (0x65e44a0)\n",
      "\n",
      "QObject::moveToThread: Current thread (0x65e44a0) is not the object's thread (0x65ce8a0).\n",
      "Cannot move to target thread (0x65e44a0)\n",
      "\n",
      "QObject::moveToThread: Current thread (0x65e44a0) is not the object's thread (0x65ce8a0).\n",
      "Cannot move to target thread (0x65e44a0)\n",
      "\n",
      "QObject::moveToThread: Current thread (0x65e44a0) is not the object's thread (0x65ce8a0).\n",
      "Cannot move to target thread (0x65e44a0)\n",
      "\n",
      "QObject::moveToThread: Current thread (0x65e44a0) is not the object's thread (0x65ce8a0).\n",
      "Cannot move to target thread (0x65e44a0)\n",
      "\n",
      "QObject::moveToThread: Current thread (0x65e44a0) is not the object's thread (0x65ce8a0).\n",
      "Cannot move to target thread (0x65e44a0)\n",
      "\n",
      "QObject::moveToThread: Current thread (0x65e44a0) is not the object's thread (0x65ce8a0).\n",
      "Cannot move to target thread (0x65e44a0)\n",
      "\n",
      "QObject::moveToThread: Current thread (0x65e44a0) is not the object's thread (0x65ce8a0).\n",
      "Cannot move to target thread (0x65e44a0)\n",
      "\n",
      "QObject::moveToThread: Current thread (0x65e44a0) is not the object's thread (0x65ce8a0).\n",
      "Cannot move to target thread (0x65e44a0)\n",
      "\n",
      "QObject::moveToThread: Current thread (0x65e44a0) is not the object's thread (0x65ce8a0).\n",
      "Cannot move to target thread (0x65e44a0)\n",
      "\n",
      "QObject::moveToThread: Current thread (0x65e44a0) is not the object's thread (0x65ce8a0).\n",
      "Cannot move to target thread (0x65e44a0)\n",
      "\n",
      "QObject::moveToThread: Current thread (0x65e44a0) is not the object's thread (0x65ce8a0).\n",
      "Cannot move to target thread (0x65e44a0)\n",
      "\n",
      "QObject::moveToThread: Current thread (0x65e44a0) is not the object's thread (0x65ce8a0).\n",
      "Cannot move to target thread (0x65e44a0)\n",
      "\n",
      "QObject::moveToThread: Current thread (0x65e44a0) is not the object's thread (0x65ce8a0).\n",
      "Cannot move to target thread (0x65e44a0)\n",
      "\n",
      "QObject::moveToThread: Current thread (0x65e44a0) is not the object's thread (0x65ce8a0).\n",
      "Cannot move to target thread (0x65e44a0)\n",
      "\n",
      "QObject::moveToThread: Current thread (0x65e44a0) is not the object's thread (0x65ce8a0).\n",
      "Cannot move to target thread (0x65e44a0)\n",
      "\n",
      "QObject::moveToThread: Current thread (0x65e44a0) is not the object's thread (0x65ce8a0).\n",
      "Cannot move to target thread (0x65e44a0)\n",
      "\n",
      "QObject::moveToThread: Current thread (0x65e44a0) is not the object's thread (0x65ce8a0).\n",
      "Cannot move to target thread (0x65e44a0)\n",
      "\n",
      "QObject::moveToThread: Current thread (0x65e44a0) is not the object's thread (0x65ce8a0).\n",
      "Cannot move to target thread (0x65e44a0)\n",
      "\n",
      "QObject::moveToThread: Current thread (0x65e44a0) is not the object's thread (0x65ce8a0).\n",
      "Cannot move to target thread (0x65e44a0)\n",
      "\n",
      "QObject::moveToThread: Current thread (0x65e44a0) is not the object's thread (0x65ce8a0).\n",
      "Cannot move to target thread (0x65e44a0)\n",
      "\n",
      "QObject::moveToThread: Current thread (0x65e44a0) is not the object's thread (0x65ce8a0).\n",
      "Cannot move to target thread (0x65e44a0)\n",
      "\n",
      "QObject::moveToThread: Current thread (0x65e44a0) is not the object's thread (0x65ce8a0).\n",
      "Cannot move to target thread (0x65e44a0)\n",
      "\n",
      "QObject::moveToThread: Current thread (0x65e44a0) is not the object's thread (0x65ce8a0).\n",
      "Cannot move to target thread (0x65e44a0)\n",
      "\n",
      "QObject::moveToThread: Current thread (0x65e44a0) is not the object's thread (0x65ce8a0).\n",
      "Cannot move to target thread (0x65e44a0)\n",
      "\n",
      "QObject::moveToThread: Current thread (0x65e44a0) is not the object's thread (0x65ce8a0).\n",
      "Cannot move to target thread (0x65e44a0)\n",
      "\n",
      "QObject::moveToThread: Current thread (0x65e44a0) is not the object's thread (0x65ce8a0).\n",
      "Cannot move to target thread (0x65e44a0)\n",
      "\n",
      "QObject::moveToThread: Current thread (0x65e44a0) is not the object's thread (0x65ce8a0).\n",
      "Cannot move to target thread (0x65e44a0)\n",
      "\n",
      "QObject::moveToThread: Current thread (0x65e44a0) is not the object's thread (0x65ce8a0).\n",
      "Cannot move to target thread (0x65e44a0)\n",
      "\n",
      "QObject::moveToThread: Current thread (0x65e44a0) is not the object's thread (0x65ce8a0).\n",
      "Cannot move to target thread (0x65e44a0)\n",
      "\n",
      "QObject::moveToThread: Current thread (0x65e44a0) is not the object's thread (0x65ce8a0).\n",
      "Cannot move to target thread (0x65e44a0)\n",
      "\n",
      "QObject::moveToThread: Current thread (0x65e44a0) is not the object's thread (0x65ce8a0).\n",
      "Cannot move to target thread (0x65e44a0)\n",
      "\n",
      "QObject::moveToThread: Current thread (0x65e44a0) is not the object's thread (0x65ce8a0).\n",
      "Cannot move to target thread (0x65e44a0)\n",
      "\n",
      "QObject::moveToThread: Current thread (0x65e44a0) is not the object's thread (0x65ce8a0).\n",
      "Cannot move to target thread (0x65e44a0)\n",
      "\n",
      "QObject::moveToThread: Current thread (0x65e44a0) is not the object's thread (0x65ce8a0).\n",
      "Cannot move to target thread (0x65e44a0)\n",
      "\n",
      "QObject::moveToThread: Current thread (0x65e44a0) is not the object's thread (0x65ce8a0).\n",
      "Cannot move to target thread (0x65e44a0)\n",
      "\n",
      "QObject::moveToThread: Current thread (0x65e44a0) is not the object's thread (0x65ce8a0).\n",
      "Cannot move to target thread (0x65e44a0)\n",
      "\n",
      "QObject::moveToThread: Current thread (0x65e44a0) is not the object's thread (0x65ce8a0).\n",
      "Cannot move to target thread (0x65e44a0)\n",
      "\n",
      "QObject::moveToThread: Current thread (0x65e44a0) is not the object's thread (0x65ce8a0).\n",
      "Cannot move to target thread (0x65e44a0)\n",
      "\n",
      "QObject::moveToThread: Current thread (0x65e44a0) is not the object's thread (0x65ce8a0).\n",
      "Cannot move to target thread (0x65e44a0)\n",
      "\n",
      "QObject::moveToThread: Current thread (0x65e44a0) is not the object's thread (0x65ce8a0).\n",
      "Cannot move to target thread (0x65e44a0)\n",
      "\n",
      "QObject::moveToThread: Current thread (0x65e44a0) is not the object's thread (0x65ce8a0).\n",
      "Cannot move to target thread (0x65e44a0)\n",
      "\n",
      "QObject::moveToThread: Current thread (0x65e44a0) is not the object's thread (0x65ce8a0).\n",
      "Cannot move to target thread (0x65e44a0)\n",
      "\n",
      "QObject::moveToThread: Current thread (0x65e44a0) is not the object's thread (0x65ce8a0).\n",
      "Cannot move to target thread (0x65e44a0)\n",
      "\n",
      "QObject::moveToThread: Current thread (0x65e44a0) is not the object's thread (0x65ce8a0).\n",
      "Cannot move to target thread (0x65e44a0)\n",
      "\n",
      "QObject::moveToThread: Current thread (0x65e44a0) is not the object's thread (0x65ce8a0).\n",
      "Cannot move to target thread (0x65e44a0)\n",
      "\n",
      "QObject::moveToThread: Current thread (0x65e44a0) is not the object's thread (0x65ce8a0).\n",
      "Cannot move to target thread (0x65e44a0)\n",
      "\n",
      "QObject::moveToThread: Current thread (0x65e44a0) is not the object's thread (0x65ce8a0).\n",
      "Cannot move to target thread (0x65e44a0)\n",
      "\n",
      "QObject::moveToThread: Current thread (0x65e44a0) is not the object's thread (0x65ce8a0).\n",
      "Cannot move to target thread (0x65e44a0)\n",
      "\n",
      "QObject::moveToThread: Current thread (0x65e44a0) is not the object's thread (0x65ce8a0).\n",
      "Cannot move to target thread (0x65e44a0)\n",
      "\n",
      "QObject::moveToThread: Current thread (0x65e44a0) is not the object's thread (0x65ce8a0).\n",
      "Cannot move to target thread (0x65e44a0)\n",
      "\n",
      "QObject::moveToThread: Current thread (0x65e44a0) is not the object's thread (0x65ce8a0).\n",
      "Cannot move to target thread (0x65e44a0)\n",
      "\n",
      "QObject::moveToThread: Current thread (0x65e44a0) is not the object's thread (0x65ce8a0).\n",
      "Cannot move to target thread (0x65e44a0)\n",
      "\n",
      "QObject::moveToThread: Current thread (0x65e44a0) is not the object's thread (0x65ce8a0).\n",
      "Cannot move to target thread (0x65e44a0)\n",
      "\n",
      "QObject::moveToThread: Current thread (0x65e44a0) is not the object's thread (0x65ce8a0).\n",
      "Cannot move to target thread (0x65e44a0)\n",
      "\n",
      "QObject::moveToThread: Current thread (0x65e44a0) is not the object's thread (0x65ce8a0).\n",
      "Cannot move to target thread (0x65e44a0)\n",
      "\n",
      "QObject::moveToThread: Current thread (0x65e44a0) is not the object's thread (0x65ce8a0).\n",
      "Cannot move to target thread (0x65e44a0)\n",
      "\n",
      "QObject::moveToThread: Current thread (0x65e44a0) is not the object's thread (0x65ce8a0).\n",
      "Cannot move to target thread (0x65e44a0)\n",
      "\n",
      "QObject::moveToThread: Current thread (0x65e44a0) is not the object's thread (0x65ce8a0).\n",
      "Cannot move to target thread (0x65e44a0)\n",
      "\n",
      "QObject::moveToThread: Current thread (0x65e44a0) is not the object's thread (0x65ce8a0).\n",
      "Cannot move to target thread (0x65e44a0)\n",
      "\n",
      "QObject::moveToThread: Current thread (0x65e44a0) is not the object's thread (0x65ce8a0).\n",
      "Cannot move to target thread (0x65e44a0)\n",
      "\n",
      "QObject::moveToThread: Current thread (0x65e44a0) is not the object's thread (0x65ce8a0).\n",
      "Cannot move to target thread (0x65e44a0)\n",
      "\n",
      "QObject::moveToThread: Current thread (0x65e44a0) is not the object's thread (0x65ce8a0).\n",
      "Cannot move to target thread (0x65e44a0)\n",
      "\n",
      "QObject::moveToThread: Current thread (0x65e44a0) is not the object's thread (0x65ce8a0).\n",
      "Cannot move to target thread (0x65e44a0)\n",
      "\n",
      "QObject::moveToThread: Current thread (0x65e44a0) is not the object's thread (0x65ce8a0).\n",
      "Cannot move to target thread (0x65e44a0)\n",
      "\n",
      "QObject::moveToThread: Current thread (0x65e44a0) is not the object's thread (0x65ce8a0).\n",
      "Cannot move to target thread (0x65e44a0)\n",
      "\n",
      "QObject::moveToThread: Current thread (0x65e44a0) is not the object's thread (0x65ce8a0).\n",
      "Cannot move to target thread (0x65e44a0)\n",
      "\n",
      "QObject::moveToThread: Current thread (0x65e44a0) is not the object's thread (0x65ce8a0).\n",
      "Cannot move to target thread (0x65e44a0)\n",
      "\n",
      "QObject::moveToThread: Current thread (0x65e44a0) is not the object's thread (0x65ce8a0).\n",
      "Cannot move to target thread (0x65e44a0)\n",
      "\n",
      "QObject::moveToThread: Current thread (0x65e44a0) is not the object's thread (0x65ce8a0).\n",
      "Cannot move to target thread (0x65e44a0)\n",
      "\n",
      "QObject::moveToThread: Current thread (0x65e44a0) is not the object's thread (0x65ce8a0).\n",
      "Cannot move to target thread (0x65e44a0)\n",
      "\n",
      "QObject::moveToThread: Current thread (0x65e44a0) is not the object's thread (0x65ce8a0).\n",
      "Cannot move to target thread (0x65e44a0)\n",
      "\n",
      "QObject::moveToThread: Current thread (0x65e44a0) is not the object's thread (0x65ce8a0).\n",
      "Cannot move to target thread (0x65e44a0)\n",
      "\n",
      "QObject::moveToThread: Current thread (0x65e44a0) is not the object's thread (0x65ce8a0).\n",
      "Cannot move to target thread (0x65e44a0)\n",
      "\n",
      "QObject::moveToThread: Current thread (0x65e44a0) is not the object's thread (0x65ce8a0).\n",
      "Cannot move to target thread (0x65e44a0)\n",
      "\n",
      "QObject::moveToThread: Current thread (0x65e44a0) is not the object's thread (0x65ce8a0).\n",
      "Cannot move to target thread (0x65e44a0)\n",
      "\n",
      "QObject::moveToThread: Current thread (0x65e44a0) is not the object's thread (0x65ce8a0).\n",
      "Cannot move to target thread (0x65e44a0)\n",
      "\n",
      "QObject::moveToThread: Current thread (0x65e44a0) is not the object's thread (0x65ce8a0).\n",
      "Cannot move to target thread (0x65e44a0)\n",
      "\n",
      "QObject::moveToThread: Current thread (0x65e44a0) is not the object's thread (0x65ce8a0).\n",
      "Cannot move to target thread (0x65e44a0)\n",
      "\n",
      "QObject::moveToThread: Current thread (0x65e44a0) is not the object's thread (0x65ce8a0).\n",
      "Cannot move to target thread (0x65e44a0)\n",
      "\n",
      "QObject::moveToThread: Current thread (0x65e44a0) is not the object's thread (0x65ce8a0).\n",
      "Cannot move to target thread (0x65e44a0)\n",
      "\n",
      "QObject::moveToThread: Current thread (0x65e44a0) is not the object's thread (0x65ce8a0).\n",
      "Cannot move to target thread (0x65e44a0)\n",
      "\n",
      "QObject::moveToThread: Current thread (0x65e44a0) is not the object's thread (0x65ce8a0).\n",
      "Cannot move to target thread (0x65e44a0)\n",
      "\n",
      "QObject::moveToThread: Current thread (0x65e44a0) is not the object's thread (0x65ce8a0).\n",
      "Cannot move to target thread (0x65e44a0)\n",
      "\n",
      "QObject::moveToThread: Current thread (0x65e44a0) is not the object's thread (0x65ce8a0).\n",
      "Cannot move to target thread (0x65e44a0)\n",
      "\n",
      "QObject::moveToThread: Current thread (0x65e44a0) is not the object's thread (0x65ce8a0).\n",
      "Cannot move to target thread (0x65e44a0)\n",
      "\n",
      "QObject::moveToThread: Current thread (0x65e44a0) is not the object's thread (0x65ce8a0).\n",
      "Cannot move to target thread (0x65e44a0)\n",
      "\n",
      "QObject::moveToThread: Current thread (0x65e44a0) is not the object's thread (0x65ce8a0).\n",
      "Cannot move to target thread (0x65e44a0)\n",
      "\n",
      "QObject::moveToThread: Current thread (0x65e44a0) is not the object's thread (0x65ce8a0).\n",
      "Cannot move to target thread (0x65e44a0)\n",
      "\n",
      "QObject::moveToThread: Current thread (0x65e44a0) is not the object's thread (0x65ce8a0).\n",
      "Cannot move to target thread (0x65e44a0)\n",
      "\n",
      "QObject::moveToThread: Current thread (0x65e44a0) is not the object's thread (0x65ce8a0).\n",
      "Cannot move to target thread (0x65e44a0)\n",
      "\n",
      "QObject::moveToThread: Current thread (0x65e44a0) is not the object's thread (0x65ce8a0).\n",
      "Cannot move to target thread (0x65e44a0)\n",
      "\n",
      "QObject::moveToThread: Current thread (0x65e44a0) is not the object's thread (0x65ce8a0).\n",
      "Cannot move to target thread (0x65e44a0)\n",
      "\n",
      "QObject::moveToThread: Current thread (0x65e44a0) is not the object's thread (0x65ce8a0).\n",
      "Cannot move to target thread (0x65e44a0)\n",
      "\n",
      "QObject::moveToThread: Current thread (0x65e44a0) is not the object's thread (0x65ce8a0).\n",
      "Cannot move to target thread (0x65e44a0)\n",
      "\n",
      "QObject::moveToThread: Current thread (0x65e44a0) is not the object's thread (0x65ce8a0).\n",
      "Cannot move to target thread (0x65e44a0)\n",
      "\n",
      "QObject::moveToThread: Current thread (0x65e44a0) is not the object's thread (0x65ce8a0).\n",
      "Cannot move to target thread (0x65e44a0)\n",
      "\n",
      "QObject::moveToThread: Current thread (0x65e44a0) is not the object's thread (0x65ce8a0).\n",
      "Cannot move to target thread (0x65e44a0)\n",
      "\n"
     ]
    }
   ],
   "source": [
    "# import the opencv library\n",
    "import cv2\n",
    "  \n",
    "  \n",
    "# define a video capture object\n",
    "vid = cv2.VideoCapture(0)\n",
    "  \n",
    "while(True):\n",
    "    \n",
    "    ret, frame = vid.read()\n",
    "\n",
    "    # Cut down frame to 250x250px\n",
    "    frame = frame[120:120+250,200:200+250, :]\n",
    "    \n",
    "    # Collect anchors \n",
    "    if cv2.waitKey(1) & 0XFF == ord('a'):\n",
    "        # Create the unique file path \n",
    "        imgname = os.path.join(ANC_PATH, '{}.jpg'.format(uuid.uuid1()))\n",
    "        # Write out anchor image\n",
    "        cv2.imwrite(imgname, frame)\n",
    "    \n",
    "    # Collect positives\n",
    "    if cv2.waitKey(1) & 0XFF == ord('p'):\n",
    "        # Create the unique file path \n",
    "        imgname = os.path.join(POS_PATH, '{}.jpg'.format(uuid.uuid1()))\n",
    "        # Write out positive image\n",
    "        cv2.imwrite(imgname, frame)\n",
    "    \n",
    "    # Show image back to screen\n",
    "    cv2.imshow('Image Collection', frame)\n",
    "    \n",
    "    # Breaking gracefully\n",
    "    if cv2.waitKey(1) & 0XFF == ord('q'):\n",
    "        break\n",
    "        \n",
    "  \n",
    "# After the loop release the cap object\n",
    "vid.release()\n",
    "# Destroy all the windows\n",
    "cv2.destroyAllWindows()"
   ]
  },
  {
   "cell_type": "code",
   "execution_count": null,
   "id": "ea3277b6",
   "metadata": {},
   "outputs": [],
   "source": []
  },
  {
   "cell_type": "code",
   "execution_count": 87,
   "id": "cb1f297d",
   "metadata": {},
   "outputs": [],
   "source": [
    "def data_aug(img):\n",
    "    data = []\n",
    "    for i in range(9):\n",
    "        img = tf.image.stateless_random_brightness(img, max_delta=0.02, seed=(1,2))\n",
    "        img = tf.image.stateless_random_contrast(img, lower=0.6, upper=1, seed=(1,3))\n",
    "        # img = tf.image.stateless_random_crop(img, size=(20,20,3), seed=(1,2))\n",
    "        img = tf.image.stateless_random_flip_left_right(img, seed=(np.random.randint(100),np.random.randint(100)))\n",
    "        img = tf.image.stateless_random_jpeg_quality(img, min_jpeg_quality=90, max_jpeg_quality=100, seed=(np.random.randint(100),np.random.randint(100)))\n",
    "        img = tf.image.stateless_random_saturation(img, lower=0.9,upper=1, seed=(np.random.randint(100),np.random.randint(100)))\n",
    "            \n",
    "        data.append(img)\n",
    "    \n",
    "    return data"
   ]
  },
  {
   "cell_type": "code",
   "execution_count": 89,
   "id": "efe66384",
   "metadata": {},
   "outputs": [],
   "source": [
    "import os\n",
    "import uuid"
   ]
  },
  {
   "cell_type": "code",
   "execution_count": 91,
   "id": "a58b6386",
   "metadata": {},
   "outputs": [],
   "source": [
    "# img_path = os.path.join(ANC_PATH, '924e839c-135f-11ec-b54e-a0cec8d2d278.jpg')\n",
    "# img = cv2.imread(img_path)\n",
    "# augmented_images = data_aug(img)\n",
    "\n",
    "# for image in augmented_images:\n",
    "#     cv2.imwrite(os.path.join(ANC_PATH, '{}.jpg'.format(uuid.uuid1())), image.numpy())"
   ]
  },
  {
   "cell_type": "code",
   "execution_count": 92,
   "id": "ba2b5976",
   "metadata": {},
   "outputs": [],
   "source": [
    "for file_name in os.listdir(os.path.join(POS_PATH)):\n",
    "    img_path = os.path.join(POS_PATH, file_name)\n",
    "    img = cv2.imread(img_path)\n",
    "    augmented_images = data_aug(img) \n",
    "    \n",
    "    for image in augmented_images:\n",
    "        cv2.imwrite(os.path.join(POS_PATH, '{}.jpg'.format(uuid.uuid1())), image.numpy())"
   ]
  },
  {
   "cell_type": "code",
   "execution_count": null,
   "id": "94e24645",
   "metadata": {},
   "outputs": [],
   "source": []
  },
  {
   "cell_type": "code",
   "execution_count": 12,
   "id": "c775ef31",
   "metadata": {},
   "outputs": [
    {
     "data": {
      "text/plain": [
       "'data/anchor/*.jpg'"
      ]
     },
     "execution_count": 12,
     "metadata": {},
     "output_type": "execute_result"
    }
   ],
   "source": [
    "ANC_PATH+'/*.jpg'"
   ]
  },
  {
   "cell_type": "code",
   "execution_count": 13,
   "id": "7cbbcf89",
   "metadata": {},
   "outputs": [],
   "source": [
    "anchor = tf.data.Dataset.list_files(ANC_PATH+'/*.jpg').take(3000)\n",
    "positive = tf.data.Dataset.list_files(POS_PATH+'/*.jpg').take(3000)\n",
    "negative = tf.data.Dataset.list_files(NEG_PATH+'/*.jpg').take(3000)"
   ]
  },
  {
   "cell_type": "code",
   "execution_count": 14,
   "id": "236b5123",
   "metadata": {},
   "outputs": [
    {
     "name": "stderr",
     "output_type": "stream",
     "text": [
      "2023-08-05 12:19:50.991805: I tensorflow/core/common_runtime/executor.cc:1197] [/device:CPU:0] (DEBUG INFO) Executor start aborting (this does not indicate an error and you can ignore this message): INVALID_ARGUMENT: You must feed a value for placeholder tensor 'Placeholder/_0' with dtype string and shape [696]\n",
      "\t [[{{node Placeholder/_0}}]]\n",
      "2023-08-05 12:19:50.992261: I tensorflow/core/common_runtime/executor.cc:1197] [/device:CPU:0] (DEBUG INFO) Executor start aborting (this does not indicate an error and you can ignore this message): INVALID_ARGUMENT: You must feed a value for placeholder tensor 'Placeholder/_0' with dtype string and shape [696]\n",
      "\t [[{{node Placeholder/_0}}]]\n"
     ]
    }
   ],
   "source": [
    "dir_test = anchor.as_numpy_iterator()"
   ]
  },
  {
   "cell_type": "code",
   "execution_count": 15,
   "id": "507b5e66",
   "metadata": {},
   "outputs": [
    {
     "data": {
      "text/plain": [
       "b'data/anchor/e97e302e-3370-11ee-9f37-5cfb3a9030e3.jpg'"
      ]
     },
     "execution_count": 15,
     "metadata": {},
     "output_type": "execute_result"
    }
   ],
   "source": [
    "dir_test.next()"
   ]
  },
  {
   "cell_type": "code",
   "execution_count": 16,
   "id": "6301b422",
   "metadata": {},
   "outputs": [],
   "source": [
    "def preprocess(file_path):\n",
    "    \n",
    "    # Read in image from file path\n",
    "    byte_img = tf.io.read_file(file_path)\n",
    "    # Load in the image \n",
    "    img = tf.io.decode_jpeg(byte_img)\n",
    "    \n",
    "    # Preprocessing steps - resizing the image to be 100x100x3\n",
    "    img = tf.image.resize(img, (100,100))\n",
    "    # Scale image to be between 0 and 1 \n",
    "    img = img / 255.0\n",
    "\n",
    "    # Return image\n",
    "    return img"
   ]
  },
  {
   "cell_type": "code",
   "execution_count": 19,
   "id": "74294081",
   "metadata": {},
   "outputs": [],
   "source": [
    "# img = preprocess('data/anchor/e97e302e-3370-11ee-9f37-5cfb3a9030e3.jpg')"
   ]
  },
  {
   "cell_type": "code",
   "execution_count": 21,
   "id": "11d8b31f",
   "metadata": {},
   "outputs": [],
   "source": [
    "# img.numpy().max() "
   ]
  },
  {
   "cell_type": "code",
   "execution_count": 22,
   "id": "aa0ed72f",
   "metadata": {},
   "outputs": [],
   "source": [
    "positives = tf.data.Dataset.zip((anchor, positive, tf.data.Dataset.from_tensor_slices(tf.ones(len(anchor)))))\n",
    "negatives = tf.data.Dataset.zip((anchor, negative, tf.data.Dataset.from_tensor_slices(tf.zeros(len(anchor)))))\n",
    "data = positives.concatenate(negatives)"
   ]
  },
  {
   "cell_type": "code",
   "execution_count": 23,
   "id": "647b2473",
   "metadata": {},
   "outputs": [
    {
     "name": "stderr",
     "output_type": "stream",
     "text": [
      "2023-08-05 12:20:29.382613: I tensorflow/core/common_runtime/executor.cc:1197] [/device:CPU:0] (DEBUG INFO) Executor start aborting (this does not indicate an error and you can ignore this message): INVALID_ARGUMENT: You must feed a value for placeholder tensor 'Placeholder/_30' with dtype string and shape [13233]\n",
      "\t [[{{node Placeholder/_30}}]]\n",
      "2023-08-05 12:20:29.384145: I tensorflow/core/common_runtime/executor.cc:1197] [/device:CPU:0] (DEBUG INFO) Executor start aborting (this does not indicate an error and you can ignore this message): INVALID_ARGUMENT: You must feed a value for placeholder tensor 'Placeholder/_9' with dtype string and shape [677]\n",
      "\t [[{{node Placeholder/_9}}]]\n"
     ]
    }
   ],
   "source": [
    "sample = data.as_numpy_iterator()"
   ]
  },
  {
   "cell_type": "code",
   "execution_count": 24,
   "id": "bc8c3829",
   "metadata": {},
   "outputs": [],
   "source": [
    "example = sample.next()"
   ]
  },
  {
   "cell_type": "code",
   "execution_count": 25,
   "id": "c86df617",
   "metadata": {},
   "outputs": [],
   "source": [
    "def preprocess_twin(input_img, validation_img, label):\n",
    "    return(preprocess(input_img), preprocess(validation_img), label)\n"
   ]
  },
  {
   "cell_type": "code",
   "execution_count": 26,
   "id": "1c203a3f",
   "metadata": {},
   "outputs": [],
   "source": [
    "res = preprocess_twin(*example)"
   ]
  },
  {
   "cell_type": "code",
   "execution_count": null,
   "id": "08e656ca",
   "metadata": {},
   "outputs": [],
   "source": [
    "plt.imshow(res[1])"
   ]
  },
  {
   "cell_type": "code",
   "execution_count": 28,
   "id": "da8fa1bc",
   "metadata": {},
   "outputs": [
    {
     "data": {
      "text/plain": [
       "1.0"
      ]
     },
     "execution_count": 28,
     "metadata": {},
     "output_type": "execute_result"
    }
   ],
   "source": [
    "res[2]"
   ]
  },
  {
   "cell_type": "code",
   "execution_count": 29,
   "id": "18fc7a67",
   "metadata": {},
   "outputs": [],
   "source": [
    "# Build dataloader pipeline\n",
    "data = data.map(preprocess_twin)\n",
    "data = data.cache()\n",
    "data = data.shuffle(buffer_size=10000)"
   ]
  },
  {
   "cell_type": "code",
   "execution_count": 30,
   "id": "fdfee3d1",
   "metadata": {},
   "outputs": [
    {
     "data": {
      "text/plain": [
       "<_ShuffleDataset element_spec=(TensorSpec(shape=(100, 100, None), dtype=tf.float32, name=None), TensorSpec(shape=(100, 100, None), dtype=tf.float32, name=None), TensorSpec(shape=(), dtype=tf.float32, name=None))>"
      ]
     },
     "execution_count": 30,
     "metadata": {},
     "output_type": "execute_result"
    }
   ],
   "source": [
    "data"
   ]
  },
  {
   "cell_type": "code",
   "execution_count": 31,
   "id": "ce896feb",
   "metadata": {},
   "outputs": [
    {
     "name": "stderr",
     "output_type": "stream",
     "text": [
      "2023-08-05 12:20:46.536313: I tensorflow/core/common_runtime/executor.cc:1197] [/device:CPU:0] (DEBUG INFO) Executor start aborting (this does not indicate an error and you can ignore this message): INVALID_ARGUMENT: You must feed a value for placeholder tensor 'Placeholder/_39' with dtype float and shape [696]\n",
      "\t [[{{node Placeholder/_39}}]]\n",
      "2023-08-05 12:20:46.537565: I tensorflow/core/common_runtime/executor.cc:1197] [/device:CPU:0] (DEBUG INFO) Executor start aborting (this does not indicate an error and you can ignore this message): INVALID_ARGUMENT: You must feed a value for placeholder tensor 'Placeholder/_39' with dtype float and shape [696]\n",
      "\t [[{{node Placeholder/_39}}]]\n"
     ]
    }
   ],
   "source": [
    "sample = data.as_numpy_iterator()"
   ]
  },
  {
   "cell_type": "code",
   "execution_count": null,
   "id": "332a2609",
   "metadata": {},
   "outputs": [],
   "source": [
    "plt.imshow(sample.next()[1])"
   ]
  },
  {
   "cell_type": "code",
   "execution_count": 33,
   "id": "cd5a00eb",
   "metadata": {},
   "outputs": [
    {
     "data": {
      "text/plain": [
       "1.0"
      ]
     },
     "execution_count": 33,
     "metadata": {},
     "output_type": "execute_result"
    }
   ],
   "source": [
    "sample.next()[2]"
   ]
  },
  {
   "cell_type": "code",
   "execution_count": 34,
   "id": "8ff2e716",
   "metadata": {},
   "outputs": [],
   "source": [
    "# Training partition\n",
    "train_data = data.take(round(len(data)*.7))\n",
    "train_data = train_data.batch(16)\n",
    "train_data = train_data.prefetch(8)"
   ]
  },
  {
   "cell_type": "code",
   "execution_count": 35,
   "id": "710250cf",
   "metadata": {},
   "outputs": [],
   "source": [
    "# Testing partition\n",
    "test_data = data.skip(round(len(data)*.7))\n",
    "test_data = test_data.take(round(len(data)*.3))\n",
    "test_data = test_data.batch(16)\n",
    "test_data = test_data.prefetch(8)"
   ]
  },
  {
   "cell_type": "code",
   "execution_count": 36,
   "id": "1acbd5e2",
   "metadata": {},
   "outputs": [],
   "source": [
    "inp = Input(shape=(100,100,3), name='input_image')"
   ]
  },
  {
   "cell_type": "code",
   "execution_count": 37,
   "id": "f7bdef7f",
   "metadata": {},
   "outputs": [
    {
     "data": {
      "text/plain": [
       "<KerasTensor: shape=(None, 100, 100, 3) dtype=float32 (created by layer 'input_image')>"
      ]
     },
     "execution_count": 37,
     "metadata": {},
     "output_type": "execute_result"
    }
   ],
   "source": [
    "inp"
   ]
  },
  {
   "cell_type": "code",
   "execution_count": 38,
   "id": "cb3542ca",
   "metadata": {},
   "outputs": [],
   "source": [
    "c1 = Conv2D(64, (10,10), activation='relu')(inp)"
   ]
  },
  {
   "cell_type": "code",
   "execution_count": 39,
   "id": "d3c410e1",
   "metadata": {},
   "outputs": [
    {
     "data": {
      "text/plain": [
       "<KerasTensor: shape=(None, 91, 91, 64) dtype=float32 (created by layer 'conv2d')>"
      ]
     },
     "execution_count": 39,
     "metadata": {},
     "output_type": "execute_result"
    }
   ],
   "source": [
    "c1"
   ]
  },
  {
   "cell_type": "code",
   "execution_count": 40,
   "id": "ac43efed",
   "metadata": {},
   "outputs": [],
   "source": [
    "m1 = MaxPooling2D(64, (2,2), padding='same')(c1)"
   ]
  },
  {
   "cell_type": "code",
   "execution_count": 41,
   "id": "ec66553e",
   "metadata": {},
   "outputs": [
    {
     "data": {
      "text/plain": [
       "<KerasTensor: shape=(None, 46, 46, 64) dtype=float32 (created by layer 'max_pooling2d')>"
      ]
     },
     "execution_count": 41,
     "metadata": {},
     "output_type": "execute_result"
    }
   ],
   "source": [
    "m1"
   ]
  },
  {
   "cell_type": "code",
   "execution_count": 42,
   "id": "e3138999",
   "metadata": {},
   "outputs": [],
   "source": [
    "c2 = Conv2D(128, (7,7), activation='relu')(m1)\n",
    "m2 = MaxPooling2D(64, (2,2), padding='same')(c2)"
   ]
  },
  {
   "cell_type": "code",
   "execution_count": 43,
   "id": "5cb6d376",
   "metadata": {},
   "outputs": [],
   "source": [
    "c3 = Conv2D(128, (4,4), activation='relu')(m2)\n",
    "m3 = MaxPooling2D(64, (2,2), padding='same')(c3)"
   ]
  },
  {
   "cell_type": "code",
   "execution_count": 44,
   "id": "617bc6ad",
   "metadata": {},
   "outputs": [
    {
     "data": {
      "text/plain": [
       "<KerasTensor: shape=(None, 9, 9, 128) dtype=float32 (created by layer 'max_pooling2d_2')>"
      ]
     },
     "execution_count": 44,
     "metadata": {},
     "output_type": "execute_result"
    }
   ],
   "source": [
    "m3"
   ]
  },
  {
   "cell_type": "code",
   "execution_count": 45,
   "id": "94457d48",
   "metadata": {},
   "outputs": [],
   "source": [
    "c4 = Conv2D(256, (4,4), activation='relu')(m3)\n",
    "f1 = Flatten()(c4)\n",
    "d1 = Dense(4096, activation='sigmoid')(f1)"
   ]
  },
  {
   "cell_type": "code",
   "execution_count": 46,
   "id": "41ad53ff",
   "metadata": {},
   "outputs": [
    {
     "data": {
      "text/plain": [
       "<KerasTensor: shape=(None, 4096) dtype=float32 (created by layer 'dense')>"
      ]
     },
     "execution_count": 46,
     "metadata": {},
     "output_type": "execute_result"
    }
   ],
   "source": [
    "d1"
   ]
  },
  {
   "cell_type": "code",
   "execution_count": 47,
   "id": "703ed01c",
   "metadata": {},
   "outputs": [],
   "source": [
    "mod = Model(inputs=[inp], outputs=[d1], name='embedding')"
   ]
  },
  {
   "cell_type": "code",
   "execution_count": null,
   "id": "1aa14555",
   "metadata": {},
   "outputs": [],
   "source": []
  },
  {
   "cell_type": "code",
   "execution_count": 48,
   "id": "3cfd2bfd",
   "metadata": {},
   "outputs": [],
   "source": [
    "def make_embedding(): \n",
    "    inp = Input(shape=(100,100,3), name='input_image')\n",
    "    \n",
    "    # First block\n",
    "    c1 = Conv2D(64, (10,10), activation='relu')(inp)\n",
    "    m1 = MaxPooling2D(64, (2,2), padding='same')(c1)\n",
    "    \n",
    "    # Second block\n",
    "    c2 = Conv2D(128, (7,7), activation='relu')(m1)\n",
    "    m2 = MaxPooling2D(64, (2,2), padding='same')(c2)\n",
    "    \n",
    "    # Third block \n",
    "    c3 = Conv2D(128, (4,4), activation='relu')(m2)\n",
    "    m3 = MaxPooling2D(64, (2,2), padding='same')(c3)\n",
    "    \n",
    "    # Final embedding block\n",
    "    c4 = Conv2D(256, (4,4), activation='relu')(m3)\n",
    "    f1 = Flatten()(c4)\n",
    "    d1 = Dense(4096, activation='sigmoid')(f1)\n",
    "    \n",
    "    \n",
    "    return Model(inputs=[inp], outputs=[d1], name='embedding')"
   ]
  },
  {
   "cell_type": "code",
   "execution_count": 49,
   "id": "e88f3be3",
   "metadata": {},
   "outputs": [],
   "source": [
    "embedding = make_embedding()"
   ]
  },
  {
   "cell_type": "code",
   "execution_count": 50,
   "id": "63fa8d6c",
   "metadata": {},
   "outputs": [
    {
     "name": "stdout",
     "output_type": "stream",
     "text": [
      "Model: \"embedding\"\n",
      "_________________________________________________________________\n",
      " Layer (type)                Output Shape              Param #   \n",
      "=================================================================\n",
      " input_image (InputLayer)    [(None, 100, 100, 3)]     0         \n",
      "                                                                 \n",
      " conv2d_4 (Conv2D)           (None, 91, 91, 64)        19264     \n",
      "                                                                 \n",
      " max_pooling2d_3 (MaxPooling  (None, 46, 46, 64)       0         \n",
      " 2D)                                                             \n",
      "                                                                 \n",
      " conv2d_5 (Conv2D)           (None, 40, 40, 128)       401536    \n",
      "                                                                 \n",
      " max_pooling2d_4 (MaxPooling  (None, 20, 20, 128)      0         \n",
      " 2D)                                                             \n",
      "                                                                 \n",
      " conv2d_6 (Conv2D)           (None, 17, 17, 128)       262272    \n",
      "                                                                 \n",
      " max_pooling2d_5 (MaxPooling  (None, 9, 9, 128)        0         \n",
      " 2D)                                                             \n",
      "                                                                 \n",
      " conv2d_7 (Conv2D)           (None, 6, 6, 256)         524544    \n",
      "                                                                 \n",
      " flatten_1 (Flatten)         (None, 9216)              0         \n",
      "                                                                 \n",
      " dense_1 (Dense)             (None, 4096)              37752832  \n",
      "                                                                 \n",
      "=================================================================\n",
      "Total params: 38,960,448\n",
      "Trainable params: 38,960,448\n",
      "Non-trainable params: 0\n",
      "_________________________________________________________________\n"
     ]
    }
   ],
   "source": [
    "embedding.summary()"
   ]
  },
  {
   "cell_type": "code",
   "execution_count": 51,
   "id": "a65b6c40",
   "metadata": {},
   "outputs": [],
   "source": [
    "# Siamese L1 Distance class\n",
    "class L1Dist(Layer):\n",
    "    \n",
    "    # Init method - inheritance\n",
    "    def __init__(self, **kwargs):\n",
    "        super().__init__()\n",
    "       \n",
    "    # Magic happens here - similarity calculation\n",
    "    def call(self, input_embedding, validation_embedding):\n",
    "        return tf.math.abs(input_embedding - validation_embedding)"
   ]
  },
  {
   "cell_type": "code",
   "execution_count": 52,
   "id": "16c6adce",
   "metadata": {},
   "outputs": [],
   "source": [
    "l1 = L1Dist()"
   ]
  },
  {
   "cell_type": "code",
   "execution_count": 53,
   "id": "3508d57a",
   "metadata": {},
   "outputs": [],
   "source": [
    "def make_siamese_model(): \n",
    "    \n",
    "    # Anchor image input in the network\n",
    "    input_image = Input(name='input_img', shape=(100,100,3))\n",
    "    \n",
    "    # Validation image in the network \n",
    "    validation_image = Input(name='validation_img', shape=(100,100,3))\n",
    "    \n",
    "    # Combine siamese distance components\n",
    "    siamese_layer = L1Dist()\n",
    "    siamese_layer._name = 'distance'\n",
    "    distances = siamese_layer(embedding(input_image), embedding(validation_image))\n",
    "    \n",
    "    # Classification layer \n",
    "    classifier = Dense(1, activation='sigmoid')(distances)\n",
    "    \n",
    "    return Model(inputs=[input_image, validation_image], outputs=classifier, name='SiameseNetwork')"
   ]
  },
  {
   "cell_type": "code",
   "execution_count": 54,
   "id": "db4c14b3",
   "metadata": {},
   "outputs": [],
   "source": [
    "siamese_model = make_siamese_model()"
   ]
  },
  {
   "cell_type": "code",
   "execution_count": 55,
   "id": "a5508103",
   "metadata": {},
   "outputs": [
    {
     "name": "stdout",
     "output_type": "stream",
     "text": [
      "Model: \"SiameseNetwork\"\n",
      "__________________________________________________________________________________________________\n",
      " Layer (type)                   Output Shape         Param #     Connected to                     \n",
      "==================================================================================================\n",
      " input_img (InputLayer)         [(None, 100, 100, 3  0           []                               \n",
      "                                )]                                                                \n",
      "                                                                                                  \n",
      " validation_img (InputLayer)    [(None, 100, 100, 3  0           []                               \n",
      "                                )]                                                                \n",
      "                                                                                                  \n",
      " embedding (Functional)         (None, 4096)         38960448    ['input_img[0][0]',              \n",
      "                                                                  'validation_img[0][0]']         \n",
      "                                                                                                  \n",
      " distance (L1Dist)              (None, 4096)         0           ['embedding[0][0]',              \n",
      "                                                                  'embedding[1][0]']              \n",
      "                                                                                                  \n",
      " dense_2 (Dense)                (None, 1)            4097        ['distance[0][0]']               \n",
      "                                                                                                  \n",
      "==================================================================================================\n",
      "Total params: 38,964,545\n",
      "Trainable params: 38,964,545\n",
      "Non-trainable params: 0\n",
      "__________________________________________________________________________________________________\n"
     ]
    }
   ],
   "source": [
    "siamese_model.summary()"
   ]
  },
  {
   "cell_type": "code",
   "execution_count": 56,
   "id": "c7df9b63",
   "metadata": {},
   "outputs": [],
   "source": [
    "binary_cross_loss = tf.losses.BinaryCrossentropy()"
   ]
  },
  {
   "cell_type": "code",
   "execution_count": 57,
   "id": "c6558a97",
   "metadata": {},
   "outputs": [],
   "source": [
    "opt = tf.keras.optimizers.Adam(1e-4) # 0.0001"
   ]
  },
  {
   "cell_type": "code",
   "execution_count": 58,
   "id": "047ed287",
   "metadata": {},
   "outputs": [],
   "source": [
    "checkpoint_dir = './training_checkpoints'\n",
    "checkpoint_prefix = os.path.join(checkpoint_dir, 'ckpt')\n",
    "checkpoint = tf.train.Checkpoint(opt=opt, siamese_model=siamese_model)"
   ]
  },
  {
   "cell_type": "code",
   "execution_count": 59,
   "id": "f04a2c3e",
   "metadata": {},
   "outputs": [],
   "source": [
    "@tf.function\n",
    "def train_step(batch):\n",
    "    \n",
    "    # Record all of our operations \n",
    "    with tf.GradientTape() as tape:     \n",
    "        # Get anchor and positive/negative image\n",
    "        X = batch[:2]\n",
    "        # Get label\n",
    "        y = batch[2]\n",
    "        \n",
    "        # Forward pass\n",
    "        yhat = siamese_model(X, training=True)\n",
    "        # Calculate loss\n",
    "        loss = binary_cross_loss(y, yhat)\n",
    "#     print(loss)\n",
    "        \n",
    "    # Calculate gradients\n",
    "    grad = tape.gradient(loss, siamese_model.trainable_variables)\n",
    "    \n",
    "    # Calculate updated weights and apply to siamese model\n",
    "    opt.apply_gradients(zip(grad, siamese_model.trainable_variables))\n",
    "        \n",
    "    # Return loss\n",
    "    return loss"
   ]
  },
  {
   "cell_type": "code",
   "execution_count": 60,
   "id": "b714d975",
   "metadata": {},
   "outputs": [
    {
     "name": "stderr",
     "output_type": "stream",
     "text": [
      "2023-08-05 12:21:36.157752: I tensorflow/core/common_runtime/executor.cc:1197] [/device:CPU:0] (DEBUG INFO) Executor start aborting (this does not indicate an error and you can ignore this message): INVALID_ARGUMENT: You must feed a value for placeholder tensor 'Placeholder/_9' with dtype string and shape [677]\n",
      "\t [[{{node Placeholder/_9}}]]\n",
      "2023-08-05 12:21:36.159135: I tensorflow/core/common_runtime/executor.cc:1197] [/device:CPU:0] (DEBUG INFO) Executor start aborting (this does not indicate an error and you can ignore this message): INVALID_ARGUMENT: You must feed a value for placeholder tensor 'Placeholder/_30' with dtype string and shape [13233]\n",
      "\t [[{{node Placeholder/_30}}]]\n"
     ]
    }
   ],
   "source": [
    "test_batch = train_data.as_numpy_iterator()"
   ]
  },
  {
   "cell_type": "code",
   "execution_count": 61,
   "id": "148f1b4a",
   "metadata": {},
   "outputs": [],
   "source": [
    "batch_1 = test_batch.next()"
   ]
  },
  {
   "cell_type": "code",
   "execution_count": 62,
   "id": "620a0845",
   "metadata": {},
   "outputs": [],
   "source": [
    "X = batch_1[:2]"
   ]
  },
  {
   "cell_type": "code",
   "execution_count": 63,
   "id": "0aaff3e5",
   "metadata": {},
   "outputs": [],
   "source": [
    "y = batch_1[2]"
   ]
  },
  {
   "cell_type": "code",
   "execution_count": 64,
   "id": "b19dc75f",
   "metadata": {},
   "outputs": [
    {
     "data": {
      "text/plain": [
       "array([0., 1., 0., 0., 1., 0., 1., 1., 0., 1., 1., 1., 1., 1., 1., 0.],\n",
       "      dtype=float32)"
      ]
     },
     "execution_count": 64,
     "metadata": {},
     "output_type": "execute_result"
    }
   ],
   "source": [
    "y"
   ]
  },
  {
   "cell_type": "code",
   "execution_count": 65,
   "id": "677aaead",
   "metadata": {},
   "outputs": [],
   "source": [
    "# Import metric calculations\n",
    "from tensorflow.keras.metrics import Precision, Recall"
   ]
  },
  {
   "cell_type": "code",
   "execution_count": 66,
   "id": "3d7c93cc",
   "metadata": {},
   "outputs": [],
   "source": [
    "def train(data, EPOCHS):\n",
    "    # Loop through epochs\n",
    "    for epoch in range(1, EPOCHS+1):\n",
    "        print('\\n Epoch {}/{}'.format(epoch, EPOCHS))\n",
    "        progbar = tf.keras.utils.Progbar(len(data))\n",
    "        \n",
    "        # Creating a metric object \n",
    "        r = Recall()\n",
    "        p = Precision()\n",
    "        \n",
    "        # Loop through each batch\n",
    "        for idx, batch in enumerate(data):\n",
    "            # Run train step here\n",
    "            loss = train_step(batch)\n",
    "            yhat = siamese_model.predict(batch[:2])\n",
    "            r.update_state(batch[2], yhat)\n",
    "            p.update_state(batch[2], yhat) \n",
    "            progbar.update(idx+1)\n",
    "        print(loss.numpy(), r.result().numpy(), p.result().numpy())\n",
    "        \n",
    "        # Save checkpoints\n",
    "        if epoch % 10 == 0: \n",
    "            checkpoint.save(file_prefix=checkpoint_prefix)"
   ]
  },
  {
   "cell_type": "code",
   "execution_count": 67,
   "id": "90aae92a",
   "metadata": {},
   "outputs": [],
   "source": [
    "EPOCHS = 50"
   ]
  },
  {
   "cell_type": "code",
   "execution_count": 68,
   "id": "02fb48ec",
   "metadata": {},
   "outputs": [
    {
     "name": "stdout",
     "output_type": "stream",
     "text": [
      "\n",
      " Epoch 1/50\n",
      "61/61 [==============================] - 140s 2s/step\n",
      "\n",
      " Epoch 2/50\n",
      "61/61 [==============================] - 133s 2s/step\n",
      "\n",
      " Epoch 3/50\n",
      "61/61 [==============================] - 139s 2s/step\n",
      "\n",
      " Epoch 4/50\n",
      "61/61 [==============================] - 144s 2s/step\n",
      "\n",
      " Epoch 5/50\n",
      "61/61 [==============================] - 155s 3s/step\n",
      "\n",
      " Epoch 6/50\n",
      "61/61 [==============================] - 154s 3s/step\n",
      "\n",
      " Epoch 7/50\n",
      "61/61 [==============================] - 155s 3s/step\n",
      "\n",
      " Epoch 8/50\n",
      "61/61 [==============================] - 157s 3s/step\n",
      "\n",
      " Epoch 9/50\n",
      "61/61 [==============================] - 157s 3s/step\n",
      "\n",
      " Epoch 10/50\n",
      "61/61 [==============================] - 164s 3s/step\n",
      "\n",
      " Epoch 11/50\n",
      "61/61 [==============================] - 167s 3s/step\n",
      "\n",
      " Epoch 12/50\n",
      "61/61 [==============================] - 162s 3s/step\n",
      "\n",
      " Epoch 13/50\n",
      "61/61 [==============================] - 164s 3s/step\n",
      "\n",
      " Epoch 14/50\n",
      "61/61 [==============================] - 163s 3s/step\n",
      "\n",
      " Epoch 15/50\n",
      "61/61 [==============================] - 159s 3s/step\n",
      "\n",
      " Epoch 16/50\n",
      "61/61 [==============================] - 150s 2s/step\n",
      "\n",
      " Epoch 17/50\n",
      "61/61 [==============================] - 155s 3s/step\n",
      "\n",
      " Epoch 18/50\n",
      "61/61 [==============================] - 155s 3s/step\n",
      "\n",
      " Epoch 19/50\n",
      "61/61 [==============================] - 156s 3s/step\n",
      "\n",
      " Epoch 20/50\n",
      "61/61 [==============================] - 157s 3s/step\n",
      "\n",
      " Epoch 21/50\n",
      "61/61 [==============================] - 148s 2s/step\n",
      "\n",
      " Epoch 22/50\n",
      "61/61 [==============================] - 128s 2s/step\n",
      "\n",
      " Epoch 23/50\n",
      "61/61 [==============================] - 125s 2s/step\n",
      "\n",
      " Epoch 24/50\n",
      "61/61 [==============================] - 126s 2s/step\n",
      "\n",
      " Epoch 25/50\n",
      "61/61 [==============================] - 125s 2s/step\n",
      "\n",
      " Epoch 26/50\n",
      "61/61 [==============================] - 129s 2s/step\n",
      "\n",
      " Epoch 27/50\n",
      "61/61 [==============================] - 128s 2s/step\n",
      "\n",
      " Epoch 28/50\n",
      "61/61 [==============================] - 127s 2s/step\n",
      "\n",
      " Epoch 29/50\n",
      "61/61 [==============================] - 127s 2s/step\n",
      "\n",
      " Epoch 30/50\n",
      "61/61 [==============================] - 127s 2s/step\n",
      "\n",
      " Epoch 31/50\n",
      "61/61 [==============================] - 127s 2s/step\n",
      "\n",
      " Epoch 32/50\n",
      "61/61 [==============================] - 127s 2s/step\n",
      "\n",
      " Epoch 33/50\n",
      "61/61 [==============================] - 127s 2s/step\n",
      "\n",
      " Epoch 34/50\n",
      "61/61 [==============================] - 127s 2s/step\n",
      "\n",
      " Epoch 35/50\n",
      "61/61 [==============================] - 131s 2s/step\n",
      "\n",
      " Epoch 36/50\n",
      "61/61 [==============================] - 136s 2s/step\n",
      "\n",
      " Epoch 37/50\n",
      "61/61 [==============================] - 147s 2s/step\n",
      "\n",
      " Epoch 38/50\n",
      "61/61 [==============================] - 146s 2s/step\n",
      "\n",
      " Epoch 39/50\n",
      "61/61 [==============================] - 150s 2s/step\n",
      "\n",
      " Epoch 40/50\n",
      "61/61 [==============================] - 154s 3s/step\n",
      "\n",
      " Epoch 41/50\n",
      "61/61 [==============================] - 146s 2s/step\n",
      "\n",
      " Epoch 42/50\n",
      "61/61 [==============================] - 139s 2s/step\n",
      "\n",
      " Epoch 43/50\n",
      "61/61 [==============================] - 145s 2s/step\n",
      "\n",
      " Epoch 44/50\n",
      "61/61 [==============================] - 158s 3s/step\n",
      "\n",
      " Epoch 45/50\n",
      "61/61 [==============================] - 153s 3s/step\n",
      "\n",
      " Epoch 46/50\n",
      "61/61 [==============================] - 148s 2s/step\n",
      "\n",
      " Epoch 47/50\n",
      "61/61 [==============================] - 125s 2s/step\n",
      "\n",
      " Epoch 48/50\n",
      "61/61 [==============================] - 126s 2s/step\n",
      "\n",
      " Epoch 49/50\n",
      "61/61 [==============================] - 126s 2s/step\n",
      "\n",
      " Epoch 50/50\n",
      "61/61 [==============================] - 125s 2s/step\n"
     ]
    }
   ],
   "source": [
    "train(train_data, EPOCHS)"
   ]
  },
  {
   "cell_type": "code",
   "execution_count": 70,
   "id": "ac4f4840",
   "metadata": {},
   "outputs": [],
   "source": [
    "test_input, test_val, y_true = test_data.as_numpy_iterator().next()"
   ]
  },
  {
   "cell_type": "code",
   "execution_count": 71,
   "id": "39a9bcc8",
   "metadata": {},
   "outputs": [
    {
     "name": "stdout",
     "output_type": "stream",
     "text": [
      "1/1 [==============================] - 2s 2s/step\n"
     ]
    }
   ],
   "source": [
    "y_hat = siamese_model.predict([test_input, test_val])"
   ]
  },
  {
   "cell_type": "code",
   "execution_count": 72,
   "id": "37c9a474",
   "metadata": {},
   "outputs": [
    {
     "data": {
      "text/plain": [
       "array([[6.2985569e-15],\n",
       "       [9.5932168e-20],\n",
       "       [2.2249055e-20],\n",
       "       [1.3292304e-21],\n",
       "       [9.9969172e-01],\n",
       "       [1.0000000e+00],\n",
       "       [4.0243419e-21],\n",
       "       [3.7639711e-21],\n",
       "       [9.9297974e-22],\n",
       "       [9.9999970e-01],\n",
       "       [1.0000000e+00],\n",
       "       [3.0822895e-20],\n",
       "       [2.8256422e-20],\n",
       "       [1.0000000e+00],\n",
       "       [1.0000000e+00],\n",
       "       [1.0000000e+00]], dtype=float32)"
      ]
     },
     "execution_count": 72,
     "metadata": {},
     "output_type": "execute_result"
    }
   ],
   "source": [
    "y_hat"
   ]
  },
  {
   "cell_type": "code",
   "execution_count": 73,
   "id": "c33e931b",
   "metadata": {},
   "outputs": [
    {
     "data": {
      "text/plain": [
       "[0, 0, 0, 0, 1, 1, 0, 0, 0, 1, 1, 0, 0, 1, 1, 1]"
      ]
     },
     "execution_count": 73,
     "metadata": {},
     "output_type": "execute_result"
    }
   ],
   "source": [
    "[1 if prediction > 0.5 else 0 for prediction in y_hat ]"
   ]
  },
  {
   "cell_type": "code",
   "execution_count": 74,
   "id": "f5b77d5b",
   "metadata": {},
   "outputs": [
    {
     "data": {
      "text/plain": [
       "array([0., 0., 0., 0., 1., 1., 0., 0., 0., 1., 1., 0., 0., 1., 1., 1.],\n",
       "      dtype=float32)"
      ]
     },
     "execution_count": 74,
     "metadata": {},
     "output_type": "execute_result"
    }
   ],
   "source": [
    "y_true"
   ]
  },
  {
   "cell_type": "code",
   "execution_count": 75,
   "id": "19ce634d",
   "metadata": {},
   "outputs": [
    {
     "data": {
      "text/plain": [
       "1.0"
      ]
     },
     "execution_count": 75,
     "metadata": {},
     "output_type": "execute_result"
    }
   ],
   "source": [
    "# Creating a metric object \n",
    "m = Recall()\n",
    "\n",
    "# Calculating the recall value \n",
    "m.update_state(y_true, y_hat)\n",
    "\n",
    "# Return Recall Result\n",
    "m.result().numpy()"
   ]
  },
  {
   "cell_type": "code",
   "execution_count": 76,
   "id": "9ac182d8",
   "metadata": {},
   "outputs": [
    {
     "data": {
      "text/plain": [
       "1.0"
      ]
     },
     "execution_count": 76,
     "metadata": {},
     "output_type": "execute_result"
    }
   ],
   "source": [
    "# Creating a metric object \n",
    "m = Precision()\n",
    "\n",
    "# Calculating the recall value \n",
    "m.update_state(y_true, y_hat)\n",
    "\n",
    "# Return Recall Result\n",
    "m.result().numpy()"
   ]
  },
  {
   "cell_type": "code",
   "execution_count": 77,
   "id": "c1e51153",
   "metadata": {},
   "outputs": [
    {
     "data": {
      "image/png": "[encoded data removed]",
      "text/plain": [
       "<Figure size 1000x800 with 2 Axes>"
      ]
     },
     "metadata": {},
     "output_type": "display_data"
    }
   ],
   "source": [
    "# Set plot size \n",
    "plt.figure(figsize=(10,8))\n",
    "\n",
    "# Set first subplot\n",
    "plt.subplot(1,2,1)\n",
    "plt.imshow(test_input[2])\n",
    "\n",
    "# Set second subplot\n",
    "plt.subplot(1,2,2)\n",
    "plt.imshow(test_val[2])\n",
    "\n",
    "# Renders cleanly\n",
    "plt.show()"
   ]
  },
  {
   "cell_type": "code",
   "execution_count": null,
   "id": "80485a89",
   "metadata": {},
   "outputs": [],
   "source": []
  },
  {
   "cell_type": "code",
   "execution_count": 95,
   "id": "de0f7efa",
   "metadata": {},
   "outputs": [
    {
     "data": {
      "text/plain": [
       "1.0"
      ]
     },
     "execution_count": 95,
     "metadata": {},
     "output_type": "execute_result"
    }
   ],
   "source": [
    "# Creating a metric object \n",
    "m = Recall()\n",
    "\n",
    "# Calculating the recall value \n",
    "m.update_state(y_true, y_hat)\n",
    "\n",
    "# Return Recall Result\n",
    "m.result().numpy()"
   ]
  },
  {
   "cell_type": "code",
   "execution_count": 96,
   "id": "fe261b0a",
   "metadata": {},
   "outputs": [
    {
     "data": {
      "text/plain": [
       "1.0"
      ]
     },
     "execution_count": 96,
     "metadata": {},
     "output_type": "execute_result"
    }
   ],
   "source": [
    "# Creating a metric object \n",
    "m = Precision()\n",
    "\n",
    "# Calculating the recall value \n",
    "m.update_state(y_true, y_hat)\n",
    "\n",
    "# Return Recall Result\n",
    "m.result().numpy()"
   ]
  },
  {
   "cell_type": "code",
   "execution_count": 97,
   "id": "2f8ff1b4",
   "metadata": {},
   "outputs": [
    {
     "name": "stdout",
     "output_type": "stream",
     "text": [
      "1/1 [==============================] - 1s 774ms/step\n",
      "1/1 [==============================] - 1s 785ms/step\n",
      "1/1 [==============================] - 1s 772ms/step\n",
      "1/1 [==============================] - 1s 823ms/step\n",
      "1/1 [==============================] - 1s 736ms/step\n",
      "1/1 [==============================] - 1s 753ms/step\n",
      "1/1 [==============================] - 1s 762ms/step\n",
      "1/1 [==============================] - 1s 765ms/step\n",
      "1/1 [==============================] - 1s 782ms/step\n",
      "1/1 [==============================] - 1s 756ms/step\n",
      "1/1 [==============================] - 1s 772ms/step\n",
      "1/1 [==============================] - 1s 782ms/step\n",
      "1/1 [==============================] - 1s 833ms/step\n",
      "1/1 [==============================] - 1s 845ms/step\n",
      "1/1 [==============================] - 1s 846ms/step\n",
      "1/1 [==============================] - 1s 829ms/step\n",
      "1/1 [==============================] - 1s 745ms/step\n",
      "1/1 [==============================] - 1s 797ms/step\n",
      "1/1 [==============================] - 1s 784ms/step\n",
      "1/1 [==============================] - 1s 806ms/step\n",
      "1/1 [==============================] - 1s 746ms/step\n",
      "1/1 [==============================] - 1s 830ms/step\n",
      "1/1 [==============================] - 1s 850ms/step\n",
      "1/1 [==============================] - 1s 779ms/step\n",
      "1/1 [==============================] - 1s 838ms/step\n",
      "1/1 [==============================] - 1s 633ms/step\n",
      "1.0 1.0\n"
     ]
    }
   ],
   "source": [
    "r = Recall()\n",
    "p = Precision()\n",
    "\n",
    "for test_input, test_val, y_true in test_data.as_numpy_iterator():\n",
    "    yhat = siamese_model.predict([test_input, test_val])\n",
    "    r.update_state(y_true, yhat)\n",
    "    p.update_state(y_true,yhat) \n",
    "\n",
    "print(r.result().numpy(), p.result().numpy())"
   ]
  },
  {
   "cell_type": "code",
   "execution_count": null,
   "id": "8063ca44",
   "metadata": {},
   "outputs": [],
   "source": []
  },
  {
   "cell_type": "code",
   "execution_count": 78,
   "id": "ac0ea43c",
   "metadata": {},
   "outputs": [
    {
     "name": "stdout",
     "output_type": "stream",
     "text": [
      "WARNING:tensorflow:Compiled the loaded model, but the compiled metrics have yet to be built. `model.compile_metrics` will be empty until you train or evaluate the model.\n"
     ]
    }
   ],
   "source": [
    "# Save weights\n",
    "siamese_model.save('siamesemodelv2.h5')"
   ]
  },
  {
   "cell_type": "code",
   "execution_count": 79,
   "id": "eaf0c0cd",
   "metadata": {},
   "outputs": [
    {
     "data": {
      "text/plain": [
       "__main__.L1Dist"
      ]
     },
     "execution_count": 79,
     "metadata": {},
     "output_type": "execute_result"
    }
   ],
   "source": [
    "L1Dist"
   ]
  },
  {
   "cell_type": "code",
   "execution_count": 80,
   "id": "f4835cf5",
   "metadata": {},
   "outputs": [
    {
     "name": "stdout",
     "output_type": "stream",
     "text": [
      "WARNING:tensorflow:No training configuration found in the save file, so the model was *not* compiled. Compile it manually.\n"
     ]
    }
   ],
   "source": [
    "# Reload model \n",
    "siamese_model = tf.keras.models.load_model('siamesemodelv2.h5', \n",
    "                                   custom_objects={'L1Dist':L1Dist, 'BinaryCrossentropy':tf.losses.BinaryCrossentropy})\n"
   ]
  },
  {
   "cell_type": "code",
   "execution_count": 81,
   "id": "758b8250",
   "metadata": {},
   "outputs": [
    {
     "name": "stdout",
     "output_type": "stream",
     "text": [
      "1/1 [==============================] - 1s 914ms/step\n"
     ]
    },
    {
     "data": {
      "text/plain": [
       "array([[6.2985569e-15],\n",
       "       [9.5932168e-20],\n",
       "       [2.2249055e-20],\n",
       "       [1.3292304e-21],\n",
       "       [9.9969172e-01],\n",
       "       [1.0000000e+00],\n",
       "       [4.0243419e-21],\n",
       "       [3.7639711e-21],\n",
       "       [9.9297974e-22],\n",
       "       [9.9999970e-01],\n",
       "       [1.0000000e+00],\n",
       "       [3.0822895e-20],\n",
       "       [2.8256422e-20],\n",
       "       [1.0000000e+00],\n",
       "       [1.0000000e+00],\n",
       "       [1.0000000e+00]], dtype=float32)"
      ]
     },
     "execution_count": 81,
     "metadata": {},
     "output_type": "execute_result"
    }
   ],
   "source": [
    "# Make predictions with reloaded model\n",
    "siamese_model.predict([test_input, test_val])"
   ]
  },
  {
   "cell_type": "code",
   "execution_count": 82,
   "id": "53f25d43",
   "metadata": {},
   "outputs": [
    {
     "name": "stdout",
     "output_type": "stream",
     "text": [
      "Model: \"SiameseNetwork\"\n",
      "__________________________________________________________________________________________________\n",
      " Layer (type)                   Output Shape         Param #     Connected to                     \n",
      "==================================================================================================\n",
      " input_img (InputLayer)         [(None, 100, 100, 3  0           []                               \n",
      "                                )]                                                                \n",
      "                                                                                                  \n",
      " validation_img (InputLayer)    [(None, 100, 100, 3  0           []                               \n",
      "                                )]                                                                \n",
      "                                                                                                  \n",
      " embedding (Functional)         (None, 4096)         38960448    ['input_img[0][0]',              \n",
      "                                                                  'validation_img[0][0]']         \n",
      "                                                                                                  \n",
      " l1_dist_2 (L1Dist)             (None, 4096)         0           ['embedding[0][0]',              \n",
      "                                                                  'embedding[1][0]']              \n",
      "                                                                                                  \n",
      " dense_2 (Dense)                (None, 1)            4097        ['l1_dist_2[0][0]']              \n",
      "                                                                                                  \n",
      "==================================================================================================\n",
      "Total params: 38,964,545\n",
      "Trainable params: 38,964,545\n",
      "Non-trainable params: 0\n",
      "__________________________________________________________________________________________________\n"
     ]
    }
   ],
   "source": [
    "# View model summary\n",
    "siamese_model.summary()"
   ]
  },
  {
   "cell_type": "code",
   "execution_count": 83,
   "id": "4a6e2a04",
   "metadata": {},
   "outputs": [],
   "source": [
    "def verify(model, detection_threshold, verification_threshold):\n",
    "    # Build results array\n",
    "    results = []\n",
    "    for image in os.listdir(os.path.join('application_data', 'verification_images')):\n",
    "        input_img = preprocess(os.path.join('application_data', 'input_image', 'input_image.jpg'))\n",
    "        validation_img = preprocess(os.path.join('application_data', 'verification_images', image))\n",
    "        \n",
    "        # Make Predictions \n",
    "        result = model.predict(list(np.expand_dims([input_img, validation_img], axis=1)))\n",
    "        results.append(result)\n",
    "    \n",
    "    # Detection Threshold: Metric above which a prediciton is considered positive \n",
    "    detection = np.sum(np.array(results) > detection_threshold)\n",
    "    \n",
    "    # Verification Threshold: Proportion of positive predictions / total positive samples \n",
    "    verification = detection / len(os.listdir(os.path.join('application_data', 'verification_images'))) \n",
    "    verified = verification > verification_threshold\n",
    "    \n",
    "    return results, verified"
   ]
  },
  {
   "cell_type": "code",
   "execution_count": 86,
   "id": "33cb0a87",
   "metadata": {},
   "outputs": [
    {
     "name": "stderr",
     "output_type": "stream",
     "text": [
      "QObject::moveToThread: Current thread (0x65e44a0) is not the object's thread (0x65ce8a0).\n",
      "Cannot move to target thread (0x65e44a0)\n",
      "\n",
      "QObject::moveToThread: Current thread (0x65e44a0) is not the object's thread (0x65ce8a0).\n",
      "Cannot move to target thread (0x65e44a0)\n",
      "\n",
      "QObject::moveToThread: Current thread (0x65e44a0) is not the object's thread (0x65ce8a0).\n",
      "Cannot move to target thread (0x65e44a0)\n",
      "\n",
      "QObject::moveToThread: Current thread (0x65e44a0) is not the object's thread (0x65ce8a0).\n",
      "Cannot move to target thread (0x65e44a0)\n",
      "\n",
      "QObject::moveToThread: Current thread (0x65e44a0) is not the object's thread (0x65ce8a0).\n",
      "Cannot move to target thread (0x65e44a0)\n",
      "\n",
      "QObject::moveToThread: Current thread (0x65e44a0) is not the object's thread (0x65ce8a0).\n",
      "Cannot move to target thread (0x65e44a0)\n",
      "\n",
      "QObject::moveToThread: Current thread (0x65e44a0) is not the object's thread (0x65ce8a0).\n",
      "Cannot move to target thread (0x65e44a0)\n",
      "\n",
      "QObject::moveToThread: Current thread (0x65e44a0) is not the object's thread (0x65ce8a0).\n",
      "Cannot move to target thread (0x65e44a0)\n",
      "\n",
      "QObject::moveToThread: Current thread (0x65e44a0) is not the object's thread (0x65ce8a0).\n",
      "Cannot move to target thread (0x65e44a0)\n",
      "\n",
      "QObject::moveToThread: Current thread (0x65e44a0) is not the object's thread (0x65ce8a0).\n",
      "Cannot move to target thread (0x65e44a0)\n",
      "\n",
      "QObject::moveToThread: Current thread (0x65e44a0) is not the object's thread (0x65ce8a0).\n",
      "Cannot move to target thread (0x65e44a0)\n",
      "\n",
      "QObject::moveToThread: Current thread (0x65e44a0) is not the object's thread (0x65ce8a0).\n",
      "Cannot move to target thread (0x65e44a0)\n",
      "\n",
      "QObject::moveToThread: Current thread (0x65e44a0) is not the object's thread (0x65ce8a0).\n",
      "Cannot move to target thread (0x65e44a0)\n",
      "\n",
      "QObject::moveToThread: Current thread (0x65e44a0) is not the object's thread (0x65ce8a0).\n",
      "Cannot move to target thread (0x65e44a0)\n",
      "\n",
      "QObject::moveToThread: Current thread (0x65e44a0) is not the object's thread (0x65ce8a0).\n",
      "Cannot move to target thread (0x65e44a0)\n",
      "\n",
      "QObject::moveToThread: Current thread (0x65e44a0) is not the object's thread (0x65ce8a0).\n",
      "Cannot move to target thread (0x65e44a0)\n",
      "\n",
      "QObject::moveToThread: Current thread (0x65e44a0) is not the object's thread (0x65ce8a0).\n",
      "Cannot move to target thread (0x65e44a0)\n",
      "\n",
      "QObject::moveToThread: Current thread (0x65e44a0) is not the object's thread (0x65ce8a0).\n",
      "Cannot move to target thread (0x65e44a0)\n",
      "\n",
      "QObject::moveToThread: Current thread (0x65e44a0) is not the object's thread (0x65ce8a0).\n",
      "Cannot move to target thread (0x65e44a0)\n",
      "\n",
      "QObject::moveToThread: Current thread (0x65e44a0) is not the object's thread (0x65ce8a0).\n",
      "Cannot move to target thread (0x65e44a0)\n",
      "\n",
      "QObject::moveToThread: Current thread (0x65e44a0) is not the object's thread (0x65ce8a0).\n",
      "Cannot move to target thread (0x65e44a0)\n",
      "\n",
      "QObject::moveToThread: Current thread (0x65e44a0) is not the object's thread (0x65ce8a0).\n",
      "Cannot move to target thread (0x65e44a0)\n",
      "\n",
      "QObject::moveToThread: Current thread (0x65e44a0) is not the object's thread (0x65ce8a0).\n",
      "Cannot move to target thread (0x65e44a0)\n",
      "\n",
      "QObject::moveToThread: Current thread (0x65e44a0) is not the object's thread (0x65ce8a0).\n",
      "Cannot move to target thread (0x65e44a0)\n",
      "\n",
      "QObject::moveToThread: Current thread (0x65e44a0) is not the object's thread (0x65ce8a0).\n",
      "Cannot move to target thread (0x65e44a0)\n",
      "\n",
      "QObject::moveToThread: Current thread (0x65e44a0) is not the object's thread (0x65ce8a0).\n",
      "Cannot move to target thread (0x65e44a0)\n",
      "\n",
      "QObject::moveToThread: Current thread (0x65e44a0) is not the object's thread (0x65ce8a0).\n",
      "Cannot move to target thread (0x65e44a0)\n",
      "\n",
      "QObject::moveToThread: Current thread (0x65e44a0) is not the object's thread (0x65ce8a0).\n",
      "Cannot move to target thread (0x65e44a0)\n",
      "\n",
      "QObject::moveToThread: Current thread (0x65e44a0) is not the object's thread (0x65ce8a0).\n",
      "Cannot move to target thread (0x65e44a0)\n",
      "\n",
      "QObject::moveToThread: Current thread (0x65e44a0) is not the object's thread (0x65ce8a0).\n",
      "Cannot move to target thread (0x65e44a0)\n",
      "\n",
      "QObject::moveToThread: Current thread (0x65e44a0) is not the object's thread (0x65ce8a0).\n",
      "Cannot move to target thread (0x65e44a0)\n",
      "\n",
      "QObject::moveToThread: Current thread (0x65e44a0) is not the object's thread (0x65ce8a0).\n",
      "Cannot move to target thread (0x65e44a0)\n",
      "\n",
      "QObject::moveToThread: Current thread (0x65e44a0) is not the object's thread (0x65ce8a0).\n",
      "Cannot move to target thread (0x65e44a0)\n",
      "\n",
      "QObject::moveToThread: Current thread (0x65e44a0) is not the object's thread (0x65ce8a0).\n",
      "Cannot move to target thread (0x65e44a0)\n",
      "\n",
      "QObject::moveToThread: Current thread (0x65e44a0) is not the object's thread (0x65ce8a0).\n",
      "Cannot move to target thread (0x65e44a0)\n",
      "\n",
      "QObject::moveToThread: Current thread (0x65e44a0) is not the object's thread (0x65ce8a0).\n",
      "Cannot move to target thread (0x65e44a0)\n",
      "\n",
      "QObject::moveToThread: Current thread (0x65e44a0) is not the object's thread (0x65ce8a0).\n",
      "Cannot move to target thread (0x65e44a0)\n",
      "\n",
      "QObject::moveToThread: Current thread (0x65e44a0) is not the object's thread (0x65ce8a0).\n",
      "Cannot move to target thread (0x65e44a0)\n",
      "\n",
      "QObject::moveToThread: Current thread (0x65e44a0) is not the object's thread (0x65ce8a0).\n",
      "Cannot move to target thread (0x65e44a0)\n",
      "\n",
      "QObject::moveToThread: Current thread (0x65e44a0) is not the object's thread (0x65ce8a0).\n",
      "Cannot move to target thread (0x65e44a0)\n",
      "\n",
      "QObject::moveToThread: Current thread (0x65e44a0) is not the object's thread (0x65ce8a0).\n",
      "Cannot move to target thread (0x65e44a0)\n",
      "\n",
      "QObject::moveToThread: Current thread (0x65e44a0) is not the object's thread (0x65ce8a0).\n",
      "Cannot move to target thread (0x65e44a0)\n",
      "\n",
      "QObject::moveToThread: Current thread (0x65e44a0) is not the object's thread (0x65ce8a0).\n",
      "Cannot move to target thread (0x65e44a0)\n",
      "\n",
      "QObject::moveToThread: Current thread (0x65e44a0) is not the object's thread (0x65ce8a0).\n",
      "Cannot move to target thread (0x65e44a0)\n",
      "\n",
      "QObject::moveToThread: Current thread (0x65e44a0) is not the object's thread (0x65ce8a0).\n",
      "Cannot move to target thread (0x65e44a0)\n",
      "\n",
      "QObject::moveToThread: Current thread (0x65e44a0) is not the object's thread (0x65ce8a0).\n",
      "Cannot move to target thread (0x65e44a0)\n",
      "\n",
      "QObject::moveToThread: Current thread (0x65e44a0) is not the object's thread (0x65ce8a0).\n",
      "Cannot move to target thread (0x65e44a0)\n",
      "\n",
      "QObject::moveToThread: Current thread (0x65e44a0) is not the object's thread (0x65ce8a0).\n",
      "Cannot move to target thread (0x65e44a0)\n",
      "\n",
      "QObject::moveToThread: Current thread (0x65e44a0) is not the object's thread (0x65ce8a0).\n",
      "Cannot move to target thread (0x65e44a0)\n",
      "\n",
      "QObject::moveToThread: Current thread (0x65e44a0) is not the object's thread (0x65ce8a0).\n",
      "Cannot move to target thread (0x65e44a0)\n",
      "\n",
      "QObject::moveToThread: Current thread (0x65e44a0) is not the object's thread (0x65ce8a0).\n",
      "Cannot move to target thread (0x65e44a0)\n",
      "\n",
      "QObject::moveToThread: Current thread (0x65e44a0) is not the object's thread (0x65ce8a0).\n",
      "Cannot move to target thread (0x65e44a0)\n",
      "\n",
      "QObject::moveToThread: Current thread (0x65e44a0) is not the object's thread (0x65ce8a0).\n",
      "Cannot move to target thread (0x65e44a0)\n",
      "\n",
      "QObject::moveToThread: Current thread (0x65e44a0) is not the object's thread (0x65ce8a0).\n",
      "Cannot move to target thread (0x65e44a0)\n",
      "\n",
      "QObject::moveToThread: Current thread (0x65e44a0) is not the object's thread (0x65ce8a0).\n",
      "Cannot move to target thread (0x65e44a0)\n",
      "\n",
      "QObject::moveToThread: Current thread (0x65e44a0) is not the object's thread (0x65ce8a0).\n",
      "Cannot move to target thread (0x65e44a0)\n",
      "\n",
      "QObject::moveToThread: Current thread (0x65e44a0) is not the object's thread (0x65ce8a0).\n",
      "Cannot move to target thread (0x65e44a0)\n",
      "\n",
      "QObject::moveToThread: Current thread (0x65e44a0) is not the object's thread (0x65ce8a0).\n",
      "Cannot move to target thread (0x65e44a0)\n",
      "\n",
      "QObject::moveToThread: Current thread (0x65e44a0) is not the object's thread (0x65ce8a0).\n",
      "Cannot move to target thread (0x65e44a0)\n",
      "\n",
      "QObject::moveToThread: Current thread (0x65e44a0) is not the object's thread (0x65ce8a0).\n",
      "Cannot move to target thread (0x65e44a0)\n",
      "\n",
      "QObject::moveToThread: Current thread (0x65e44a0) is not the object's thread (0x65ce8a0).\n",
      "Cannot move to target thread (0x65e44a0)\n",
      "\n",
      "QObject::moveToThread: Current thread (0x65e44a0) is not the object's thread (0x65ce8a0).\n",
      "Cannot move to target thread (0x65e44a0)\n",
      "\n",
      "QObject::moveToThread: Current thread (0x65e44a0) is not the object's thread (0x65ce8a0).\n",
      "Cannot move to target thread (0x65e44a0)\n",
      "\n",
      "QObject::moveToThread: Current thread (0x65e44a0) is not the object's thread (0x65ce8a0).\n",
      "Cannot move to target thread (0x65e44a0)\n",
      "\n",
      "QObject::moveToThread: Current thread (0x65e44a0) is not the object's thread (0x65ce8a0).\n",
      "Cannot move to target thread (0x65e44a0)\n",
      "\n",
      "QObject::moveToThread: Current thread (0x65e44a0) is not the object's thread (0x65ce8a0).\n",
      "Cannot move to target thread (0x65e44a0)\n",
      "\n",
      "QObject::moveToThread: Current thread (0x65e44a0) is not the object's thread (0x65ce8a0).\n",
      "Cannot move to target thread (0x65e44a0)\n",
      "\n",
      "QObject::moveToThread: Current thread (0x65e44a0) is not the object's thread (0x65ce8a0).\n",
      "Cannot move to target thread (0x65e44a0)\n",
      "\n",
      "QObject::moveToThread: Current thread (0x65e44a0) is not the object's thread (0x65ce8a0).\n",
      "Cannot move to target thread (0x65e44a0)\n",
      "\n",
      "QObject::moveToThread: Current thread (0x65e44a0) is not the object's thread (0x65ce8a0).\n",
      "Cannot move to target thread (0x65e44a0)\n",
      "\n",
      "QObject::moveToThread: Current thread (0x65e44a0) is not the object's thread (0x65ce8a0).\n",
      "Cannot move to target thread (0x65e44a0)\n",
      "\n",
      "QObject::moveToThread: Current thread (0x65e44a0) is not the object's thread (0x65ce8a0).\n",
      "Cannot move to target thread (0x65e44a0)\n",
      "\n",
      "QObject::moveToThread: Current thread (0x65e44a0) is not the object's thread (0x65ce8a0).\n",
      "Cannot move to target thread (0x65e44a0)\n",
      "\n",
      "QObject::moveToThread: Current thread (0x65e44a0) is not the object's thread (0x65ce8a0).\n",
      "Cannot move to target thread (0x65e44a0)\n",
      "\n",
      "QObject::moveToThread: Current thread (0x65e44a0) is not the object's thread (0x65ce8a0).\n",
      "Cannot move to target thread (0x65e44a0)\n",
      "\n",
      "QObject::moveToThread: Current thread (0x65e44a0) is not the object's thread (0x65ce8a0).\n",
      "Cannot move to target thread (0x65e44a0)\n",
      "\n",
      "QObject::moveToThread: Current thread (0x65e44a0) is not the object's thread (0x65ce8a0).\n",
      "Cannot move to target thread (0x65e44a0)\n",
      "\n",
      "QObject::moveToThread: Current thread (0x65e44a0) is not the object's thread (0x65ce8a0).\n",
      "Cannot move to target thread (0x65e44a0)\n",
      "\n",
      "QObject::moveToThread: Current thread (0x65e44a0) is not the object's thread (0x65ce8a0).\n",
      "Cannot move to target thread (0x65e44a0)\n",
      "\n",
      "QObject::moveToThread: Current thread (0x65e44a0) is not the object's thread (0x65ce8a0).\n",
      "Cannot move to target thread (0x65e44a0)\n",
      "\n",
      "QObject::moveToThread: Current thread (0x65e44a0) is not the object's thread (0x65ce8a0).\n",
      "Cannot move to target thread (0x65e44a0)\n",
      "\n",
      "QObject::moveToThread: Current thread (0x65e44a0) is not the object's thread (0x65ce8a0).\n",
      "Cannot move to target thread (0x65e44a0)\n",
      "\n",
      "QObject::moveToThread: Current thread (0x65e44a0) is not the object's thread (0x65ce8a0).\n",
      "Cannot move to target thread (0x65e44a0)\n",
      "\n",
      "QObject::moveToThread: Current thread (0x65e44a0) is not the object's thread (0x65ce8a0).\n",
      "Cannot move to target thread (0x65e44a0)\n",
      "\n",
      "QObject::moveToThread: Current thread (0x65e44a0) is not the object's thread (0x65ce8a0).\n",
      "Cannot move to target thread (0x65e44a0)\n",
      "\n",
      "QObject::moveToThread: Current thread (0x65e44a0) is not the object's thread (0x65ce8a0).\n",
      "Cannot move to target thread (0x65e44a0)\n",
      "\n",
      "QObject::moveToThread: Current thread (0x65e44a0) is not the object's thread (0x65ce8a0).\n",
      "Cannot move to target thread (0x65e44a0)\n",
      "\n",
      "QObject::moveToThread: Current thread (0x65e44a0) is not the object's thread (0x65ce8a0).\n",
      "Cannot move to target thread (0x65e44a0)\n",
      "\n",
      "QObject::moveToThread: Current thread (0x65e44a0) is not the object's thread (0x65ce8a0).\n",
      "Cannot move to target thread (0x65e44a0)\n",
      "\n",
      "QObject::moveToThread: Current thread (0x65e44a0) is not the object's thread (0x65ce8a0).\n",
      "Cannot move to target thread (0x65e44a0)\n",
      "\n",
      "QObject::moveToThread: Current thread (0x65e44a0) is not the object's thread (0x65ce8a0).\n",
      "Cannot move to target thread (0x65e44a0)\n",
      "\n",
      "QObject::moveToThread: Current thread (0x65e44a0) is not the object's thread (0x65ce8a0).\n",
      "Cannot move to target thread (0x65e44a0)\n",
      "\n",
      "QObject::moveToThread: Current thread (0x65e44a0) is not the object's thread (0x65ce8a0).\n",
      "Cannot move to target thread (0x65e44a0)\n",
      "\n",
      "QObject::moveToThread: Current thread (0x65e44a0) is not the object's thread (0x65ce8a0).\n",
      "Cannot move to target thread (0x65e44a0)\n",
      "\n",
      "QObject::moveToThread: Current thread (0x65e44a0) is not the object's thread (0x65ce8a0).\n",
      "Cannot move to target thread (0x65e44a0)\n",
      "\n",
      "QObject::moveToThread: Current thread (0x65e44a0) is not the object's thread (0x65ce8a0).\n",
      "Cannot move to target thread (0x65e44a0)\n",
      "\n",
      "QObject::moveToThread: Current thread (0x65e44a0) is not the object's thread (0x65ce8a0).\n",
      "Cannot move to target thread (0x65e44a0)\n",
      "\n",
      "QObject::moveToThread: Current thread (0x65e44a0) is not the object's thread (0x65ce8a0).\n",
      "Cannot move to target thread (0x65e44a0)\n",
      "\n",
      "QObject::moveToThread: Current thread (0x65e44a0) is not the object's thread (0x65ce8a0).\n",
      "Cannot move to target thread (0x65e44a0)\n",
      "\n",
      "QObject::moveToThread: Current thread (0x65e44a0) is not the object's thread (0x65ce8a0).\n",
      "Cannot move to target thread (0x65e44a0)\n",
      "\n",
      "QObject::moveToThread: Current thread (0x65e44a0) is not the object's thread (0x65ce8a0).\n",
      "Cannot move to target thread (0x65e44a0)\n",
      "\n",
      "QObject::moveToThread: Current thread (0x65e44a0) is not the object's thread (0x65ce8a0).\n",
      "Cannot move to target thread (0x65e44a0)\n",
      "\n",
      "QObject::moveToThread: Current thread (0x65e44a0) is not the object's thread (0x65ce8a0).\n",
      "Cannot move to target thread (0x65e44a0)\n",
      "\n",
      "QObject::moveToThread: Current thread (0x65e44a0) is not the object's thread (0x65ce8a0).\n",
      "Cannot move to target thread (0x65e44a0)\n",
      "\n",
      "QObject::moveToThread: Current thread (0x65e44a0) is not the object's thread (0x65ce8a0).\n",
      "Cannot move to target thread (0x65e44a0)\n",
      "\n",
      "QObject::moveToThread: Current thread (0x65e44a0) is not the object's thread (0x65ce8a0).\n",
      "Cannot move to target thread (0x65e44a0)\n",
      "\n",
      "QObject::moveToThread: Current thread (0x65e44a0) is not the object's thread (0x65ce8a0).\n",
      "Cannot move to target thread (0x65e44a0)\n",
      "\n",
      "QObject::moveToThread: Current thread (0x65e44a0) is not the object's thread (0x65ce8a0).\n",
      "Cannot move to target thread (0x65e44a0)\n",
      "\n",
      "QObject::moveToThread: Current thread (0x65e44a0) is not the object's thread (0x65ce8a0).\n",
      "Cannot move to target thread (0x65e44a0)\n",
      "\n",
      "QObject::moveToThread: Current thread (0x65e44a0) is not the object's thread (0x65ce8a0).\n",
      "Cannot move to target thread (0x65e44a0)\n",
      "\n",
      "QObject::moveToThread: Current thread (0x65e44a0) is not the object's thread (0x65ce8a0).\n",
      "Cannot move to target thread (0x65e44a0)\n",
      "\n",
      "QObject::moveToThread: Current thread (0x65e44a0) is not the object's thread (0x65ce8a0).\n",
      "Cannot move to target thread (0x65e44a0)\n",
      "\n",
      "QObject::moveToThread: Current thread (0x65e44a0) is not the object's thread (0x65ce8a0).\n",
      "Cannot move to target thread (0x65e44a0)\n",
      "\n",
      "QObject::moveToThread: Current thread (0x65e44a0) is not the object's thread (0x65ce8a0).\n",
      "Cannot move to target thread (0x65e44a0)\n",
      "\n",
      "QObject::moveToThread: Current thread (0x65e44a0) is not the object's thread (0x65ce8a0).\n",
      "Cannot move to target thread (0x65e44a0)\n",
      "\n",
      "QObject::moveToThread: Current thread (0x65e44a0) is not the object's thread (0x65ce8a0).\n",
      "Cannot move to target thread (0x65e44a0)\n",
      "\n",
      "QObject::moveToThread: Current thread (0x65e44a0) is not the object's thread (0x65ce8a0).\n",
      "Cannot move to target thread (0x65e44a0)\n",
      "\n",
      "QObject::moveToThread: Current thread (0x65e44a0) is not the object's thread (0x65ce8a0).\n",
      "Cannot move to target thread (0x65e44a0)\n",
      "\n",
      "QObject::moveToThread: Current thread (0x65e44a0) is not the object's thread (0x65ce8a0).\n",
      "Cannot move to target thread (0x65e44a0)\n",
      "\n",
      "QObject::moveToThread: Current thread (0x65e44a0) is not the object's thread (0x65ce8a0).\n",
      "Cannot move to target thread (0x65e44a0)\n",
      "\n",
      "QObject::moveToThread: Current thread (0x65e44a0) is not the object's thread (0x65ce8a0).\n",
      "Cannot move to target thread (0x65e44a0)\n",
      "\n",
      "QObject::moveToThread: Current thread (0x65e44a0) is not the object's thread (0x65ce8a0).\n",
      "Cannot move to target thread (0x65e44a0)\n",
      "\n",
      "QObject::moveToThread: Current thread (0x65e44a0) is not the object's thread (0x65ce8a0).\n",
      "Cannot move to target thread (0x65e44a0)\n",
      "\n",
      "QObject::moveToThread: Current thread (0x65e44a0) is not the object's thread (0x65ce8a0).\n",
      "Cannot move to target thread (0x65e44a0)\n",
      "\n",
      "QObject::moveToThread: Current thread (0x65e44a0) is not the object's thread (0x65ce8a0).\n",
      "Cannot move to target thread (0x65e44a0)\n",
      "\n",
      "QObject::moveToThread: Current thread (0x65e44a0) is not the object's thread (0x65ce8a0).\n",
      "Cannot move to target thread (0x65e44a0)\n",
      "\n",
      "QObject::moveToThread: Current thread (0x65e44a0) is not the object's thread (0x65ce8a0).\n",
      "Cannot move to target thread (0x65e44a0)\n",
      "\n",
      "QObject::moveToThread: Current thread (0x65e44a0) is not the object's thread (0x65ce8a0).\n",
      "Cannot move to target thread (0x65e44a0)\n",
      "\n",
      "QObject::moveToThread: Current thread (0x65e44a0) is not the object's thread (0x65ce8a0).\n",
      "Cannot move to target thread (0x65e44a0)\n",
      "\n",
      "QObject::moveToThread: Current thread (0x65e44a0) is not the object's thread (0x65ce8a0).\n",
      "Cannot move to target thread (0x65e44a0)\n",
      "\n",
      "QObject::moveToThread: Current thread (0x65e44a0) is not the object's thread (0x65ce8a0).\n",
      "Cannot move to target thread (0x65e44a0)\n",
      "\n",
      "QObject::moveToThread: Current thread (0x65e44a0) is not the object's thread (0x65ce8a0).\n",
      "Cannot move to target thread (0x65e44a0)\n",
      "\n",
      "QObject::moveToThread: Current thread (0x65e44a0) is not the object's thread (0x65ce8a0).\n",
      "Cannot move to target thread (0x65e44a0)\n",
      "\n",
      "QObject::moveToThread: Current thread (0x65e44a0) is not the object's thread (0x65ce8a0).\n",
      "Cannot move to target thread (0x65e44a0)\n",
      "\n",
      "QObject::moveToThread: Current thread (0x65e44a0) is not the object's thread (0x65ce8a0).\n",
      "Cannot move to target thread (0x65e44a0)\n",
      "\n",
      "QObject::moveToThread: Current thread (0x65e44a0) is not the object's thread (0x65ce8a0).\n",
      "Cannot move to target thread (0x65e44a0)\n",
      "\n",
      "QObject::moveToThread: Current thread (0x65e44a0) is not the object's thread (0x65ce8a0).\n",
      "Cannot move to target thread (0x65e44a0)\n",
      "\n",
      "QObject::moveToThread: Current thread (0x65e44a0) is not the object's thread (0x65ce8a0).\n",
      "Cannot move to target thread (0x65e44a0)\n",
      "\n",
      "QObject::moveToThread: Current thread (0x65e44a0) is not the object's thread (0x65ce8a0).\n",
      "Cannot move to target thread (0x65e44a0)\n",
      "\n",
      "QObject::moveToThread: Current thread (0x65e44a0) is not the object's thread (0x65ce8a0).\n",
      "Cannot move to target thread (0x65e44a0)\n",
      "\n"
     ]
    },
    {
     "name": "stdout",
     "output_type": "stream",
     "text": [
      "1/1 [==============================] - 0s 120ms/step\n",
      "1/1 [==============================] - 0s 107ms/step\n",
      "1/1 [==============================] - 0s 124ms/step\n",
      "1/1 [==============================] - 0s 118ms/step\n",
      "1/1 [==============================] - 0s 111ms/step\n",
      "1/1 [==============================] - 0s 99ms/step\n",
      "1/1 [==============================] - 0s 106ms/step\n",
      "1/1 [==============================] - 0s 108ms/step\n",
      "1/1 [==============================] - 0s 110ms/step\n",
      "1/1 [==============================] - 0s 104ms/step\n",
      "1/1 [==============================] - 0s 106ms/step\n",
      "1/1 [==============================] - 0s 117ms/step\n",
      "1/1 [==============================] - 0s 101ms/step\n",
      "1/1 [==============================] - 0s 104ms/step\n",
      "1/1 [==============================] - 0s 120ms/step\n",
      "1/1 [==============================] - 0s 107ms/step\n",
      "1/1 [==============================] - 0s 117ms/step\n",
      "1/1 [==============================] - 0s 115ms/step\n",
      "1/1 [==============================] - 0s 122ms/step\n",
      "1/1 [==============================] - 0s 111ms/step\n",
      "1/1 [==============================] - 0s 106ms/step\n",
      "1/1 [==============================] - 0s 102ms/step\n",
      "1/1 [==============================] - 0s 117ms/step\n",
      "1/1 [==============================] - 0s 108ms/step\n",
      "1/1 [==============================] - 0s 105ms/step\n",
      "1/1 [==============================] - 0s 102ms/step\n",
      "1/1 [==============================] - 0s 104ms/step\n",
      "1/1 [==============================] - 0s 106ms/step\n",
      "1/1 [==============================] - 0s 103ms/step\n",
      "1/1 [==============================] - 0s 105ms/step\n",
      "1/1 [==============================] - 0s 99ms/step\n",
      "1/1 [==============================] - 0s 107ms/step\n",
      "1/1 [==============================] - 0s 102ms/step\n",
      "1/1 [==============================] - 0s 105ms/step\n",
      "1/1 [==============================] - 0s 101ms/step\n",
      "1/1 [==============================] - 0s 106ms/step\n",
      "1/1 [==============================] - 0s 111ms/step\n",
      "1/1 [==============================] - 0s 108ms/step\n",
      "1/1 [==============================] - 0s 100ms/step\n",
      "1/1 [==============================] - 0s 100ms/step\n",
      "1/1 [==============================] - 0s 101ms/step\n",
      "1/1 [==============================] - 0s 103ms/step\n",
      "1/1 [==============================] - 0s 112ms/step\n",
      "1/1 [==============================] - 0s 101ms/step\n",
      "1/1 [==============================] - 0s 109ms/step\n",
      "1/1 [==============================] - 0s 108ms/step\n",
      "1/1 [==============================] - 0s 103ms/step\n",
      "1/1 [==============================] - 0s 115ms/step\n",
      "1/1 [==============================] - 0s 107ms/step\n",
      "1/1 [==============================] - 0s 106ms/step\n",
      "True\n",
      "1/1 [==============================] - 0s 100ms/step\n",
      "1/1 [==============================] - 0s 99ms/step\n",
      "1/1 [==============================] - 0s 102ms/step\n",
      "1/1 [==============================] - 0s 99ms/step\n",
      "1/1 [==============================] - 0s 101ms/step\n",
      "1/1 [==============================] - 0s 103ms/step\n",
      "1/1 [==============================] - 0s 104ms/step\n",
      "1/1 [==============================] - 0s 100ms/step\n",
      "1/1 [==============================] - 0s 100ms/step\n",
      "1/1 [==============================] - 0s 98ms/step\n",
      "1/1 [==============================] - 0s 101ms/step\n",
      "1/1 [==============================] - 0s 105ms/step\n",
      "1/1 [==============================] - 0s 105ms/step\n",
      "1/1 [==============================] - 0s 102ms/step\n",
      "1/1 [==============================] - 0s 113ms/step\n",
      "1/1 [==============================] - 0s 102ms/step\n",
      "1/1 [==============================] - 0s 108ms/step\n",
      "1/1 [==============================] - 0s 113ms/step\n",
      "1/1 [==============================] - 0s 95ms/step\n",
      "1/1 [==============================] - 0s 113ms/step\n",
      "1/1 [==============================] - 0s 111ms/step\n",
      "1/1 [==============================] - 0s 112ms/step\n",
      "1/1 [==============================] - 0s 111ms/step\n",
      "1/1 [==============================] - 0s 102ms/step\n",
      "1/1 [==============================] - 0s 107ms/step\n",
      "1/1 [==============================] - 0s 111ms/step\n",
      "1/1 [==============================] - 0s 101ms/step\n",
      "1/1 [==============================] - 0s 107ms/step\n",
      "1/1 [==============================] - 0s 107ms/step\n",
      "1/1 [==============================] - 0s 101ms/step\n",
      "1/1 [==============================] - 0s 106ms/step\n",
      "1/1 [==============================] - 0s 109ms/step\n",
      "1/1 [==============================] - 0s 100ms/step\n",
      "1/1 [==============================] - 0s 109ms/step\n",
      "1/1 [==============================] - 0s 97ms/step\n",
      "1/1 [==============================] - 0s 102ms/step\n",
      "1/1 [==============================] - 0s 109ms/step\n",
      "1/1 [==============================] - 0s 102ms/step\n",
      "1/1 [==============================] - 0s 115ms/step\n",
      "1/1 [==============================] - 0s 107ms/step\n",
      "1/1 [==============================] - 0s 104ms/step\n",
      "1/1 [==============================] - 0s 105ms/step\n",
      "1/1 [==============================] - 0s 108ms/step\n",
      "1/1 [==============================] - 0s 101ms/step\n",
      "1/1 [==============================] - 0s 103ms/step\n",
      "1/1 [==============================] - 0s 101ms/step\n",
      "1/1 [==============================] - 0s 103ms/step\n",
      "1/1 [==============================] - 0s 101ms/step\n",
      "1/1 [==============================] - 0s 118ms/step\n",
      "1/1 [==============================] - 0s 113ms/step\n",
      "False\n",
      "1/1 [==============================] - 0s 100ms/step\n",
      "1/1 [==============================] - 0s 101ms/step\n",
      "1/1 [==============================] - 0s 100ms/step\n",
      "1/1 [==============================] - 0s 106ms/step\n",
      "1/1 [==============================] - 0s 102ms/step\n",
      "1/1 [==============================] - 0s 105ms/step\n",
      "1/1 [==============================] - 0s 102ms/step\n",
      "1/1 [==============================] - 0s 101ms/step\n",
      "1/1 [==============================] - 0s 100ms/step\n",
      "1/1 [==============================] - 0s 103ms/step\n",
      "1/1 [==============================] - 0s 102ms/step\n",
      "1/1 [==============================] - 0s 114ms/step\n",
      "1/1 [==============================] - 0s 103ms/step\n",
      "1/1 [==============================] - 0s 104ms/step\n",
      "1/1 [==============================] - 0s 104ms/step\n",
      "1/1 [==============================] - 0s 102ms/step\n",
      "1/1 [==============================] - 0s 105ms/step\n",
      "1/1 [==============================] - 0s 121ms/step\n",
      "1/1 [==============================] - 0s 112ms/step\n",
      "1/1 [==============================] - 0s 108ms/step\n",
      "1/1 [==============================] - 0s 116ms/step\n",
      "1/1 [==============================] - 0s 106ms/step\n",
      "1/1 [==============================] - 0s 104ms/step\n",
      "1/1 [==============================] - 0s 106ms/step\n",
      "1/1 [==============================] - 0s 102ms/step\n",
      "1/1 [==============================] - 0s 106ms/step\n",
      "1/1 [==============================] - 0s 98ms/step\n",
      "1/1 [==============================] - 0s 114ms/step\n",
      "1/1 [==============================] - 0s 100ms/step\n",
      "1/1 [==============================] - 0s 107ms/step\n",
      "1/1 [==============================] - 0s 106ms/step\n",
      "1/1 [==============================] - 0s 103ms/step\n",
      "1/1 [==============================] - 0s 108ms/step\n",
      "1/1 [==============================] - 0s 108ms/step\n",
      "1/1 [==============================] - 0s 104ms/step\n",
      "1/1 [==============================] - 0s 100ms/step\n",
      "1/1 [==============================] - 0s 101ms/step\n",
      "1/1 [==============================] - 0s 104ms/step\n",
      "1/1 [==============================] - 0s 103ms/step\n",
      "1/1 [==============================] - 0s 97ms/step\n",
      "1/1 [==============================] - 0s 102ms/step\n",
      "1/1 [==============================] - 0s 120ms/step\n",
      "1/1 [==============================] - 0s 129ms/step\n",
      "1/1 [==============================] - 0s 114ms/step\n",
      "1/1 [==============================] - 0s 106ms/step\n",
      "1/1 [==============================] - 0s 102ms/step\n",
      "1/1 [==============================] - 0s 113ms/step\n",
      "1/1 [==============================] - 0s 102ms/step\n",
      "1/1 [==============================] - 0s 108ms/step\n",
      "1/1 [==============================] - 0s 114ms/step\n",
      "True\n",
      "1/1 [==============================] - 0s 104ms/step\n",
      "1/1 [==============================] - 0s 104ms/step\n",
      "1/1 [==============================] - 0s 102ms/step\n",
      "1/1 [==============================] - 0s 105ms/step\n"
     ]
    },
    {
     "name": "stdout",
     "output_type": "stream",
     "text": [
      "1/1 [==============================] - 0s 104ms/step\n",
      "1/1 [==============================] - 0s 102ms/step\n",
      "1/1 [==============================] - 0s 101ms/step\n",
      "1/1 [==============================] - 0s 101ms/step\n",
      "1/1 [==============================] - 0s 103ms/step\n",
      "1/1 [==============================] - 0s 102ms/step\n",
      "1/1 [==============================] - 0s 101ms/step\n",
      "1/1 [==============================] - 0s 102ms/step\n",
      "1/1 [==============================] - 0s 102ms/step\n",
      "1/1 [==============================] - 0s 102ms/step\n",
      "1/1 [==============================] - 0s 103ms/step\n",
      "1/1 [==============================] - 0s 103ms/step\n",
      "1/1 [==============================] - 0s 100ms/step\n",
      "1/1 [==============================] - 0s 105ms/step\n",
      "1/1 [==============================] - 0s 105ms/step\n",
      "1/1 [==============================] - 0s 96ms/step\n",
      "1/1 [==============================] - 0s 114ms/step\n",
      "1/1 [==============================] - 0s 110ms/step\n",
      "1/1 [==============================] - 0s 113ms/step\n",
      "1/1 [==============================] - 0s 108ms/step\n",
      "1/1 [==============================] - 0s 101ms/step\n",
      "1/1 [==============================] - 0s 115ms/step\n",
      "1/1 [==============================] - 0s 112ms/step\n",
      "1/1 [==============================] - 0s 116ms/step\n",
      "1/1 [==============================] - 0s 111ms/step\n",
      "1/1 [==============================] - 0s 102ms/step\n",
      "1/1 [==============================] - 0s 103ms/step\n",
      "1/1 [==============================] - 0s 102ms/step\n",
      "1/1 [==============================] - 0s 101ms/step\n",
      "1/1 [==============================] - 0s 103ms/step\n",
      "1/1 [==============================] - 0s 101ms/step\n",
      "1/1 [==============================] - 0s 101ms/step\n",
      "1/1 [==============================] - 0s 109ms/step\n",
      "1/1 [==============================] - 0s 128ms/step\n",
      "1/1 [==============================] - 0s 102ms/step\n",
      "1/1 [==============================] - 0s 102ms/step\n",
      "1/1 [==============================] - 0s 108ms/step\n",
      "1/1 [==============================] - 0s 97ms/step\n",
      "1/1 [==============================] - 0s 106ms/step\n",
      "1/1 [==============================] - 0s 109ms/step\n",
      "1/1 [==============================] - 0s 103ms/step\n",
      "1/1 [==============================] - 0s 105ms/step\n",
      "1/1 [==============================] - 0s 101ms/step\n",
      "1/1 [==============================] - 0s 113ms/step\n",
      "1/1 [==============================] - 0s 108ms/step\n",
      "1/1 [==============================] - 0s 117ms/step\n",
      "True\n",
      "1/1 [==============================] - 0s 102ms/step\n",
      "1/1 [==============================] - 0s 103ms/step\n",
      "1/1 [==============================] - 0s 98ms/step\n",
      "1/1 [==============================] - 0s 98ms/step\n",
      "1/1 [==============================] - 0s 100ms/step\n",
      "1/1 [==============================] - 0s 99ms/step\n",
      "1/1 [==============================] - 0s 101ms/step\n",
      "1/1 [==============================] - 0s 102ms/step\n",
      "1/1 [==============================] - 0s 101ms/step\n",
      "1/1 [==============================] - 0s 102ms/step\n",
      "1/1 [==============================] - 0s 101ms/step\n",
      "1/1 [==============================] - 0s 102ms/step\n",
      "1/1 [==============================] - 0s 100ms/step\n",
      "1/1 [==============================] - 0s 100ms/step\n",
      "1/1 [==============================] - 0s 101ms/step\n",
      "1/1 [==============================] - 0s 104ms/step\n",
      "1/1 [==============================] - 0s 102ms/step\n",
      "1/1 [==============================] - 0s 103ms/step\n",
      "1/1 [==============================] - 0s 102ms/step\n",
      "1/1 [==============================] - 0s 101ms/step\n",
      "1/1 [==============================] - 0s 101ms/step\n",
      "1/1 [==============================] - 0s 102ms/step\n",
      "1/1 [==============================] - 0s 102ms/step\n",
      "1/1 [==============================] - 0s 103ms/step\n",
      "1/1 [==============================] - 0s 110ms/step\n",
      "1/1 [==============================] - 0s 97ms/step\n",
      "1/1 [==============================] - 0s 113ms/step\n",
      "1/1 [==============================] - 0s 111ms/step\n",
      "1/1 [==============================] - 0s 112ms/step\n",
      "1/1 [==============================] - 0s 115ms/step\n",
      "1/1 [==============================] - 0s 109ms/step\n",
      "1/1 [==============================] - 0s 119ms/step\n",
      "1/1 [==============================] - 0s 102ms/step\n",
      "1/1 [==============================] - 0s 107ms/step\n",
      "1/1 [==============================] - 0s 110ms/step\n",
      "1/1 [==============================] - 0s 102ms/step\n",
      "1/1 [==============================] - 0s 100ms/step\n",
      "1/1 [==============================] - 0s 110ms/step\n",
      "1/1 [==============================] - 0s 100ms/step\n",
      "1/1 [==============================] - 0s 107ms/step\n",
      "1/1 [==============================] - 0s 113ms/step\n",
      "1/1 [==============================] - 0s 103ms/step\n",
      "1/1 [==============================] - 0s 105ms/step\n",
      "1/1 [==============================] - 0s 106ms/step\n",
      "1/1 [==============================] - 0s 100ms/step\n",
      "1/1 [==============================] - 0s 110ms/step\n",
      "1/1 [==============================] - 0s 100ms/step\n",
      "1/1 [==============================] - 0s 107ms/step\n",
      "1/1 [==============================] - 0s 105ms/step\n",
      "1/1 [==============================] - 0s 114ms/step\n",
      "False\n"
     ]
    }
   ],
   "source": [
    "cap = cv2.VideoCapture(0)\n",
    "while(True):\n",
    "    ret, frame = cap.read()\n",
    "    frame = frame[120:120+250,200:200+250, :]\n",
    "    \n",
    "    cv2.imshow('Verification', frame)\n",
    "    \n",
    "    # Verification trigger\n",
    "    if cv2.waitKey(10) & 0xFF == ord('v'):\n",
    "        # Save input image to application_data/input_image folder \n",
    "#         hsv = cv2.cvtColor(frame, cv2.COLOR_BGR2HSV)\n",
    "#         h, s, v = cv2.split(hsv)\n",
    "\n",
    "#         lim = 255 - 10\n",
    "#         v[v > lim] = 255\n",
    "#         v[v <= lim] -= 10\n",
    "        \n",
    "#         final_hsv = cv2.merge((h, s, v))\n",
    "#         img = cv2.cvtColor(final_hsv, cv2.COLOR_HqqqSV2BGR)\n",
    "\n",
    "        cv2.imwrite(os.path.join('application_data', 'input_image', 'input_image.jpg'), frame)\n",
    "        # Run verification\n",
    "        results, verified = verify(siamese_model, 0.9, 0.9)\n",
    "        print(verified)\n",
    "    \n",
    "    if cv2.waitKey(10) & 0xFF == ord('q'):\n",
    "        break\n",
    "cap.release()\n",
    "cv2.destroyAllWindows()"
   ]
  },
  {
   "cell_type": "code",
   "execution_count": null,
   "id": "363598c8",
   "metadata": {},
   "outputs": [],
   "source": []
  }
 ],
 "metadata": {
  "kernelspec": {
   "display_name": "Python 3 (ipykernel)",
   "language": "python",
   "name": "python3"
  },
  "language_info": {
   "codemirror_mode": {
    "name": "ipython",
    "version": 3
   },
   "file_extension": ".py",
   "mimetype": "text/x-python",
   "name": "python",
   "nbconvert_exporter": "python",
   "pygments_lexer": "ipython3",
   "version": "3.10.12"
  }
 },
 "nbformat": 4,
 "nbformat_minor": 5
}
